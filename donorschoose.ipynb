{
 "cells": [
  {
   "cell_type": "markdown",
   "metadata": {},
   "source": [
    "# Helping Donors Choose Donorschoose.org\n",
    "<p style=\"font-size:18px\"> A Kernel Submission to the Data Science for Good Kaggle Competition with Donorschoose.org </p>\n",
    "<img src=\"donorschoose-image.png\" alt=\"DonorsChoose.org\" width=\"500\" height=\"200\">"
   ]
  },
  {
   "cell_type": "markdown",
   "metadata": {},
   "source": [
    "## About DonorsChoose.org"
   ]
  },
  {
   "cell_type": "markdown",
   "metadata": {},
   "source": []
  },
  {
   "cell_type": "markdown",
   "metadata": {},
   "source": [
    "## About the Data"
   ]
  },
  {
   "cell_type": "markdown",
   "metadata": {},
   "source": []
  },
  {
   "cell_type": "markdown",
   "metadata": {},
   "source": [
    "## Questions we would like to ask"
   ]
  },
  {
   "cell_type": "markdown",
   "metadata": {},
   "source": []
  },
  {
   "cell_type": "markdown",
   "metadata": {},
   "source": [
    "## Results of Analysis"
   ]
  },
  {
   "cell_type": "markdown",
   "metadata": {},
   "source": [
    "### Initialization & Data Loading"
   ]
  },
  {
   "cell_type": "code",
   "execution_count": 1,
   "metadata": {
    "ExecuteTime": {
     "end_time": "2018-06-04T12:50:51.868231Z",
     "start_time": "2018-06-04T12:50:49.305990Z"
    }
   },
   "outputs": [],
   "source": [
    "import pandas as pd\n",
    "import numpy as np\n",
    "import matplotlib.pyplot as plt\n",
    "%matplotlib inline\n",
    "from collections import OrderedDict\n",
    "from sklearn.preprocessing import LabelEncoder"
   ]
  },
  {
   "cell_type": "code",
   "execution_count": 2,
   "metadata": {
    "ExecuteTime": {
     "end_time": "2018-06-04T12:50:54.645913Z",
     "start_time": "2018-06-04T12:50:51.873204Z"
    }
   },
   "outputs": [],
   "source": [
    "filepath = '/Users/tristan.j.alba/Google Drive/ds_projects/datascience/'\n",
    "df = pd.read_csv(filepath+'consolidated_df_sampled.csv').iloc[:,1:]"
   ]
  },
  {
   "cell_type": "markdown",
   "metadata": {},
   "source": [
    "### Data Wrangling: Label Encoding"
   ]
  },
  {
   "cell_type": "code",
   "execution_count": 3,
   "metadata": {
    "ExecuteTime": {
     "end_time": "2018-06-04T12:50:54.662256Z",
     "start_time": "2018-06-04T12:50:54.649105Z"
    },
    "scrolled": false
   },
   "outputs": [
    {
     "data": {
      "text/plain": [
       "Index(['Project ID', 'Donation ID', 'Donor ID',\n",
       "       'Donation Included Optional Donation', 'Donation Amount',\n",
       "       'Donor Cart Sequence', 'Donation Received Date', 'Resource Item Name',\n",
       "       'Resource Quantity', 'Resource Unit Price', 'Resource Vendor Name',\n",
       "       'Donor City', 'Donor State', 'Donor Is Teacher', 'Donor Zip',\n",
       "       'School ID', 'Teacher ID', 'Teacher Project Posted Sequence',\n",
       "       'Project Type', 'Project Title', 'Project Essay',\n",
       "       'Project Short Description', 'Project Need Statement',\n",
       "       'Project Subject Category Tree', 'Project Subject Subcategory Tree',\n",
       "       'Project Grade Level Category', 'Project Resource Category',\n",
       "       'Project Cost', 'Project Posted Date', 'Project Expiration Date',\n",
       "       'Project Current Status', 'Project Fully Funded Date', 'Teacher Prefix',\n",
       "       'Teacher First Project Posted Date', 'School Name', 'School Metro Type',\n",
       "       'School Percentage Free Lunch', 'School State', 'School Zip',\n",
       "       'School City', 'School County', 'School District'],\n",
       "      dtype='object')"
      ]
     },
     "execution_count": 3,
     "metadata": {},
     "output_type": "execute_result"
    }
   ],
   "source": [
    "features = df.columns\n",
    "features"
   ]
  },
  {
   "cell_type": "markdown",
   "metadata": {},
   "source": [
    "#### Identifying useful features and categorical variables"
   ]
  },
  {
   "cell_type": "code",
   "execution_count": 121,
   "metadata": {
    "ExecuteTime": {
     "end_time": "2018-06-04T14:33:45.413956Z",
     "start_time": "2018-06-04T14:33:45.387966Z"
    },
    "collapsed": true
   },
   "outputs": [],
   "source": [
    "not_useful = ['Project ID', 'Donation ID','Donor ID','Donation Included Optional Donation',\n",
    "          'Donor Cart Sequence','Resource Vendor Name','Resource Item Name', \n",
    "              'Teacher Project Posted Sequence','School ID', 'Teacher ID',\n",
    "          'Project Title', 'Project Essay','Project Short Description',\n",
    "          'Project Need Statement','School Name']\n",
    "\n",
    "date_feat = ['Donation Received Date','Project Posted Date', 'Project Expiration Date',\n",
    "        'Project Fully Funded Date','Teacher First Project Posted Date']\n",
    "\n",
    "donor_feat = ['Donation ID', 'Donor ID',\n",
    "       'Donation Included Optional Donation', 'Donation Amount',\n",
    "       'Donor Cart Sequence', 'Donation Received Date', \n",
    "       'Donor City', 'Donor State', 'Donor Is Teacher', 'Donor Zip']\n",
    "\n",
    "project_feat = ['Resource Item Name',\n",
    "       'Resource Quantity', 'Resource Unit Price', 'Resource Vendor Name',\n",
    "       'Project Type', 'Project Title', 'Project Essay',\n",
    "       'Project Short Description', 'Project Need Statement',\n",
    "       'Project Subject Category Tree', 'Project Subject Subcategory Tree',\n",
    "       'Project Grade Level Category', 'Project Resource Category',\n",
    "       'Project Cost', 'Project Posted Date', 'Project Expiration Date',\n",
    "       'Project Current Status', 'Project Fully Funded Date', 'Teacher Prefix',\n",
    "       'Teacher First Project Posted Date', 'School Name', 'School Metro Type',\n",
    "       'School Percentage Free Lunch', 'School State', 'School Zip',\n",
    "       'School City', 'School County', 'School District']\n",
    "\n",
    "cat_feat = ['Donor City', 'Donor State', 'Donor Is Teacher', 'Donor Zip',\n",
    "            'Project Type','Project Subject Category Tree', \n",
    "            'Project Subject Subcategory Tree',\n",
    "            'Project Grade Level Category', 'Project Resource Category',\n",
    "            'Project Current Status','Teacher Prefix','School Metro Type',\n",
    "            'School State', 'School Zip','School City','School County', 'School District']\n",
    "            \n",
    "            "
   ]
  },
  {
   "cell_type": "markdown",
   "metadata": {},
   "source": [
    "#### Dropping not so useful features"
   ]
  },
  {
   "cell_type": "code",
   "execution_count": 5,
   "metadata": {
    "ExecuteTime": {
     "end_time": "2018-06-04T12:50:54.736956Z",
     "start_time": "2018-06-04T12:50:54.710620Z"
    },
    "scrolled": true
   },
   "outputs": [],
   "source": [
    "df_new = df.drop(labels=not_useful,axis = 1)"
   ]
  },
  {
   "cell_type": "markdown",
   "metadata": {},
   "source": [
    "#### Dropping datetime features (for now)"
   ]
  },
  {
   "cell_type": "code",
   "execution_count": 6,
   "metadata": {
    "ExecuteTime": {
     "end_time": "2018-06-04T12:50:54.793220Z",
     "start_time": "2018-06-04T12:50:54.740507Z"
    },
    "scrolled": false
   },
   "outputs": [],
   "source": [
    "df_new = df_new.drop(labels=date_feat,axis = 1)"
   ]
  },
  {
   "cell_type": "code",
   "execution_count": 7,
   "metadata": {
    "ExecuteTime": {
     "end_time": "2018-06-04T12:50:54.806084Z",
     "start_time": "2018-06-04T12:50:54.797402Z"
    },
    "scrolled": true
   },
   "outputs": [],
   "source": [
    "cat_feat_new = []\n",
    "for x in df_new.columns.tolist(): \n",
    "    if x in cat_feat:\n",
    "        cat_feat_new.append(x)"
   ]
  },
  {
   "cell_type": "markdown",
   "metadata": {},
   "source": [
    "#### Dropping NaN values"
   ]
  },
  {
   "cell_type": "code",
   "execution_count": 8,
   "metadata": {
    "ExecuteTime": {
     "end_time": "2018-06-04T12:50:54.962894Z",
     "start_time": "2018-06-04T12:50:54.811139Z"
    }
   },
   "outputs": [],
   "source": [
    "df_new.dropna(axis=0, inplace=True)\n",
    "#df_new[pd.isnull(df_new).any(axis=1)]"
   ]
  },
  {
   "cell_type": "markdown",
   "metadata": {},
   "source": [
    "#### Encoding numerical labels into categorical variables"
   ]
  },
  {
   "cell_type": "code",
   "execution_count": 9,
   "metadata": {
    "ExecuteTime": {
     "end_time": "2018-06-04T12:50:55.001386Z",
     "start_time": "2018-06-04T12:50:54.967141Z"
    }
   },
   "outputs": [],
   "source": [
    "checker1 = df_new[df_new['School State']=='Alaska'].index.tolist()\n",
    "checker2 = df_new[df_new['School Metro Type']=='town'].index.tolist()"
   ]
  },
  {
   "cell_type": "code",
   "execution_count": 10,
   "metadata": {
    "ExecuteTime": {
     "end_time": "2018-06-04T12:50:56.631015Z",
     "start_time": "2018-06-04T12:50:55.005105Z"
    },
    "scrolled": true
   },
   "outputs": [],
   "source": [
    "labels = {}\n",
    "for cat_feat_new in cat_feat_new:\n",
    "    le = LabelEncoder()\n",
    "    le.fit(df_new[cat_feat_new].value_counts().index.values)\n",
    "    \n",
    "    if df_new[cat_feat_new].dtype == 'float64' or\\\n",
    "    df_new[cat_feat_new].dtype == 'int':\n",
    "        df_new[cat_feat_new] = le.transform(df_new[cat_feat_new])\n",
    "    \n",
    "    else:\n",
    "        df_new[cat_feat_new] = le.transform(df_new[cat_feat_new].astype(str))\n",
    "    \n",
    "    labels[cat_feat_new] = list(le.classes_)"
   ]
  },
  {
   "cell_type": "markdown",
   "metadata": {},
   "source": [
    "#### Checking whether label encoding is done properly"
   ]
  },
  {
   "cell_type": "code",
   "execution_count": 11,
   "metadata": {
    "ExecuteTime": {
     "end_time": "2018-06-04T12:50:56.817103Z",
     "start_time": "2018-06-04T12:50:56.634625Z"
    },
    "scrolled": true
   },
   "outputs": [
    {
     "name": "stdout",
     "output_type": "stream",
     "text": [
      "Label Encoding Success\n"
     ]
    }
   ],
   "source": [
    "check = 0 \n",
    "\n",
    "for i in checker1:\n",
    "    if df_new['School State'].loc[i] != 1: check += 1\n",
    "\n",
    "for i in checker2:\n",
    "    if df_new['School Metro Type'].loc[i] != 2: check += 1\n",
    "        \n",
    "if check==0: print('Label Encoding Success') \n",
    "else: print('Label Encoding Error')"
   ]
  },
  {
   "cell_type": "markdown",
   "metadata": {},
   "source": [
    "#### Randomly sampling an arbitrary number of datapoints for initial analysis"
   ]
  },
  {
   "cell_type": "code",
   "execution_count": 12,
   "metadata": {
    "ExecuteTime": {
     "end_time": "2018-06-04T12:50:56.909639Z",
     "start_time": "2018-06-04T12:50:56.820503Z"
    }
   },
   "outputs": [],
   "source": [
    "n_rows = 50000\n",
    "df_ = df_new.sample(n = n_rows, random_state = 123, axis = 0)\n",
    "X = df_"
   ]
  },
  {
   "cell_type": "markdown",
   "metadata": {
    "ExecuteTime": {
     "end_time": "2018-06-04T11:50:15.298665Z",
     "start_time": "2018-06-04T11:50:15.292827Z"
    }
   },
   "source": [
    "### KMeans Clustering"
   ]
  },
  {
   "cell_type": "code",
   "execution_count": 13,
   "metadata": {
    "ExecuteTime": {
     "end_time": "2018-06-04T12:50:58.495967Z",
     "start_time": "2018-06-04T12:50:56.913279Z"
    },
    "scrolled": false
   },
   "outputs": [
    {
     "data": {
      "image/png": "[encoded data removed]",
      "text/plain": [
       "<Figure size 432x288 with 1 Axes>"
      ]
     },
     "metadata": {},
     "output_type": "display_data"
    }
   ],
   "source": [
    "from sklearn.cluster import KMeans\n",
    "kmeans = KMeans(n_clusters = 5).fit(X)\n",
    "for i in range(len(kmeans.cluster_centers_)):\n",
    "    plt.plot(kmeans.cluster_centers_[i][0],kmeans.cluster_centers_[i][1],'x', markersize=12, label=i);\n",
    "    plt.xticks([], [])\n",
    "    plt.yticks([], [])\n",
    "    plt.legend(loc=4)"
   ]
  },
  {
   "cell_type": "markdown",
   "metadata": {},
   "source": [
    "**Observations:** `n_clusters = 5` generates the most ideal separation among clusters from `n_clusters 1-10`"
   ]
  },
  {
   "cell_type": "markdown",
   "metadata": {},
   "source": [
    "#### Storing Donor ID in corresponding clusters"
   ]
  },
  {
   "cell_type": "code",
   "execution_count": 14,
   "metadata": {
    "ExecuteTime": {
     "end_time": "2018-06-04T12:50:58.576839Z",
     "start_time": "2018-06-04T12:50:58.499220Z"
    },
    "collapsed": true
   },
   "outputs": [],
   "source": [
    "cluster0 = df.iloc[X.iloc[kmeans.labels_==0,:].index]['Donor ID']\n",
    "cluster1 = df.iloc[X.iloc[kmeans.labels_==1,:].index]['Donor ID']\n",
    "cluster2 = df.iloc[X.iloc[kmeans.labels_==2,:].index]['Donor ID']\n",
    "cluster3 = df.iloc[X.iloc[kmeans.labels_==3,:].index]['Donor ID']\n",
    "cluster4 = df.iloc[X.iloc[kmeans.labels_==4,:].index]['Donor ID']"
   ]
  },
  {
   "cell_type": "code",
   "execution_count": 15,
   "metadata": {
    "ExecuteTime": {
     "end_time": "2018-06-04T12:50:58.587039Z",
     "start_time": "2018-06-04T12:50:58.580277Z"
    },
    "collapsed": true
   },
   "outputs": [],
   "source": [
    "y = kmeans.labels_"
   ]
  },
  {
   "cell_type": "markdown",
   "metadata": {},
   "source": [
    "### KNearest Neighbors Classification"
   ]
  },
  {
   "cell_type": "code",
   "execution_count": 16,
   "metadata": {
    "ExecuteTime": {
     "end_time": "2018-06-04T12:50:58.601821Z",
     "start_time": "2018-06-04T12:50:58.590897Z"
    },
    "scrolled": true
   },
   "outputs": [
    {
     "data": {
      "text/plain": [
       "Index(['Donation Amount', 'Resource Quantity', 'Resource Unit Price',\n",
       "       'Donor City', 'Donor State', 'Donor Is Teacher', 'Donor Zip',\n",
       "       'Project Type', 'Project Subject Category Tree',\n",
       "       'Project Subject Subcategory Tree', 'Project Grade Level Category',\n",
       "       'Project Resource Category', 'Project Cost', 'Project Current Status',\n",
       "       'Teacher Prefix', 'School Metro Type', 'School Percentage Free Lunch',\n",
       "       'School State', 'School Zip', 'School City', 'School County',\n",
       "       'School District'],\n",
       "      dtype='object')"
      ]
     },
     "execution_count": 16,
     "metadata": {},
     "output_type": "execute_result"
    }
   ],
   "source": [
    "X.columns"
   ]
  },
  {
   "cell_type": "code",
   "execution_count": 17,
   "metadata": {
    "ExecuteTime": {
     "end_time": "2018-06-04T12:50:58.616862Z",
     "start_time": "2018-06-04T12:50:58.606552Z"
    }
   },
   "outputs": [],
   "source": [
    "X_clf = X[['Project Type', 'Project Subject Category Tree',\n",
    "       'Project Subject Subcategory Tree', 'Project Grade Level Category',\n",
    "       'Project Resource Category', 'Project Cost', 'Project Current Status',\n",
    "       'Teacher Prefix', 'School Metro Type', 'School Percentage Free Lunch',\n",
    "       'School State', 'School Zip', 'School City', 'School County',\n",
    "       'School District']]"
   ]
  },
  {
   "cell_type": "code",
   "execution_count": 18,
   "metadata": {
    "ExecuteTime": {
     "end_time": "2018-06-04T12:51:06.124629Z",
     "start_time": "2018-06-04T12:50:58.620848Z"
    },
    "scrolled": false
   },
   "outputs": [
    {
     "data": {
      "image/png": "[encoded data removed]",
      "text/plain": [
       "<Figure size 432x288 with 1 Axes>"
      ]
     },
     "metadata": {},
     "output_type": "display_data"
    }
   ],
   "source": [
    "from sklearn.model_selection import train_test_split\n",
    "X_train, X_test, y_train, y_test = train_test_split(X_clf, y, test_size = 0.25, \n",
    "                                                    random_state = 123)\n",
    "from sklearn.neighbors import KNeighborsClassifier\n",
    "for n in range(1,20,1):\n",
    "    clf = KNeighborsClassifier(n_neighbors = n).fit(X_train, y_train)\n",
    "    plt.plot(n,clf.score(X_test, y_test),'.')\n",
    "    plt.xlabel(\"n_neighbors\")\n",
    "    plt.ylabel(\"Test Accuracy\")\n"
   ]
  },
  {
   "cell_type": "markdown",
   "metadata": {},
   "source": [
    "**Observations:** It appears that `n_neighbors = y` yields the highest test accuracy at around 74.2%"
   ]
  },
  {
   "cell_type": "code",
   "execution_count": 21,
   "metadata": {
    "ExecuteTime": {
     "end_time": "2018-06-04T12:53:29.327758Z",
     "start_time": "2018-06-04T12:53:22.550368Z"
    },
    "scrolled": false
   },
   "outputs": [
    {
     "name": "stdout",
     "output_type": "stream",
     "text": [
      "0.74288\n"
     ]
    },
    {
     "data": {
      "image/png": "[encoded data removed]",
      "text/plain": [
       "<Figure size 432x288 with 1 Axes>"
      ]
     },
     "metadata": {},
     "output_type": "display_data"
    }
   ],
   "source": [
    "X_clf_ = X[['Project Type', 'Project Subject Category Tree',\n",
    "            'Project Grade Level Category',\n",
    "       'Project Resource Category', 'Project Cost', 'Project Current Status',\n",
    "        'School Metro Type', 'School Percentage Free Lunch',\n",
    "       'School State', 'School Zip', 'School City', 'School County',\n",
    "       'School District']]\n",
    "\n",
    "from sklearn.model_selection import train_test_split\n",
    "X_train, X_test, y_train, y_test = train_test_split(X_clf_, y, test_size = 0.25, \n",
    "                                                    random_state = 123)\n",
    "from sklearn.neighbors import KNeighborsClassifier\n",
    "for n in range(1,20,1):\n",
    "    clf = KNeighborsClassifier(n_neighbors = n).fit(X_train, y_train)\n",
    "    plt.plot(n,clf.score(X_test, y_test),'.')\n",
    "    plt.xlabel(\"n_neighbors\")\n",
    "    plt.ylabel(\"Test Accuracy\")\n",
    "    \n",
    "print(KNeighborsClassifier(n_neighbors = 7).fit(X_train, y_train).score(X_test, y_test))"
   ]
  },
  {
   "cell_type": "code",
   "execution_count": 20,
   "metadata": {
    "ExecuteTime": {
     "end_time": "2018-06-04T12:51:13.161631Z",
     "start_time": "2018-06-04T12:51:12.954779Z"
    }
   },
   "outputs": [
    {
     "data": {
      "text/plain": [
       "0.75544"
      ]
     },
     "execution_count": 20,
     "metadata": {},
     "output_type": "execute_result"
    }
   ],
   "source": [
    "from sklearn.tree import DecisionTreeClassifier\n",
    "from sklearn.model_selection import train_test_split\n",
    "X_train, X_test, y_train, y_test = train_test_split(X_clf, y, test_size = 0.25, \n",
    "                                                    random_state = 123)\n",
    "dtc = DecisionTreeClassifier().fit(X_train, y_train)\n",
    "dtc.score(X_test,y_test)"
   ]
  },
  {
   "cell_type": "markdown",
   "metadata": {},
   "source": [
    "# Clustering Projects"
   ]
  },
  {
   "cell_type": "markdown",
   "metadata": {
    "ExecuteTime": {
     "end_time": "2018-06-04T14:22:04.814649Z",
     "start_time": "2018-06-04T14:22:04.795653Z"
    }
   },
   "source": [
    "#### Creating a new `df_proj` dataframe"
   ]
  },
  {
   "cell_type": "code",
   "execution_count": 122,
   "metadata": {
    "ExecuteTime": {
     "end_time": "2018-06-04T14:33:53.340700Z",
     "start_time": "2018-06-04T14:33:53.296859Z"
    }
   },
   "outputs": [],
   "source": [
    "df_proj =pd.DataFrame()\n",
    "df_proj = df.drop(labels=date_feat,axis = 1)"
   ]
  },
  {
   "cell_type": "markdown",
   "metadata": {},
   "source": [
    "#### Selecting features for projects"
   ]
  },
  {
   "cell_type": "code",
   "execution_count": 123,
   "metadata": {
    "ExecuteTime": {
     "end_time": "2018-06-04T14:33:55.834424Z",
     "start_time": "2018-06-04T14:33:55.329373Z"
    }
   },
   "outputs": [],
   "source": [
    "for x in df_proj.columns.tolist():\n",
    "    if x in donor_feat:\n",
    "        df_proj.drop(labels=x, axis=1, inplace=True)\n",
    "    elif x in not_useful:\n",
    "        df_proj.drop(labels=x, axis=1, inplace=True)"
   ]
  },
  {
   "cell_type": "markdown",
   "metadata": {},
   "source": [
    "#### Populating the list of categorical variables for the new dataframe"
   ]
  },
  {
   "cell_type": "code",
   "execution_count": 124,
   "metadata": {
    "ExecuteTime": {
     "end_time": "2018-06-04T14:33:57.729440Z",
     "start_time": "2018-06-04T14:33:57.721451Z"
    },
    "collapsed": true
   },
   "outputs": [],
   "source": [
    "cat_feat_proj = []\n",
    "for x in df_proj.columns.tolist(): \n",
    "    if x in cat_feat:\n",
    "        cat_feat_proj.append(x)"
   ]
  },
  {
   "cell_type": "markdown",
   "metadata": {},
   "source": [
    "#### Dropping NaN values"
   ]
  },
  {
   "cell_type": "code",
   "execution_count": 125,
   "metadata": {
    "ExecuteTime": {
     "end_time": "2018-06-04T14:34:00.612430Z",
     "start_time": "2018-06-04T14:34:00.489718Z"
    }
   },
   "outputs": [],
   "source": [
    "df_proj.dropna(axis=0, inplace=True)\n",
    "#df_proj[pd.isnull(df_new).any(axis=1)]"
   ]
  },
  {
   "cell_type": "code",
   "execution_count": 126,
   "metadata": {
    "ExecuteTime": {
     "end_time": "2018-06-04T14:34:01.783554Z",
     "start_time": "2018-06-04T14:34:01.772627Z"
    },
    "scrolled": true
   },
   "outputs": [
    {
     "data": {
      "text/plain": [
       "Index(['Resource Quantity', 'Resource Unit Price', 'Project Type',\n",
       "       'Project Subject Category Tree', 'Project Subject Subcategory Tree',\n",
       "       'Project Grade Level Category', 'Project Resource Category',\n",
       "       'Project Cost', 'Project Current Status', 'Teacher Prefix',\n",
       "       'School Metro Type', 'School Percentage Free Lunch', 'School State',\n",
       "       'School Zip', 'School City', 'School County', 'School District'],\n",
       "      dtype='object')"
      ]
     },
     "execution_count": 126,
     "metadata": {},
     "output_type": "execute_result"
    }
   ],
   "source": [
    "df_proj.columns"
   ]
  },
  {
   "cell_type": "markdown",
   "metadata": {},
   "source": [
    "#### Encoding numerical labels into categorical variables"
   ]
  },
  {
   "cell_type": "code",
   "execution_count": 127,
   "metadata": {
    "ExecuteTime": {
     "end_time": "2018-06-04T14:34:03.915339Z",
     "start_time": "2018-06-04T14:34:03.887046Z"
    }
   },
   "outputs": [],
   "source": [
    "checker1 = df_proj[df_proj['School State']=='Alaska'].index.tolist()\n",
    "checker2 = df_proj[df_proj['School Metro Type']=='town'].index.tolist()"
   ]
  },
  {
   "cell_type": "code",
   "execution_count": 128,
   "metadata": {
    "ExecuteTime": {
     "end_time": "2018-06-04T14:34:06.194430Z",
     "start_time": "2018-06-04T14:34:04.898584Z"
    }
   },
   "outputs": [],
   "source": [
    "labels_proj = {}\n",
    "for cat_feat_proj in cat_feat_proj:\n",
    "    le = LabelEncoder()\n",
    "    le.fit(df_proj[cat_feat_proj].value_counts().index.values)\n",
    "    \n",
    "    if df_proj[cat_feat_proj].dtype == 'float64' or\\\n",
    "    df_proj[cat_feat_proj].dtype == 'int':\n",
    "        df_proj[cat_feat_proj] = le.transform(df_proj[cat_feat_proj])\n",
    "    \n",
    "    else:\n",
    "        df_proj[cat_feat_proj] = le.transform(df_proj[cat_feat_proj].astype(str))\n",
    "    \n",
    "    labels_proj[cat_feat_proj] = list(le.classes_)"
   ]
  },
  {
   "cell_type": "markdown",
   "metadata": {},
   "source": [
    "#### Checking whether label encoding is done properly"
   ]
  },
  {
   "cell_type": "code",
   "execution_count": 157,
   "metadata": {
    "ExecuteTime": {
     "end_time": "2018-06-04T14:46:51.399737Z",
     "start_time": "2018-06-04T14:46:51.371233Z"
    },
    "collapsed": true
   },
   "outputs": [
    {
     "ename": "KeyError",
     "evalue": "'the label [5884] is not in the [index]'",
     "output_type": "error",
     "traceback": [
      "\u001b[0;31m---------------------------------------------------------------------------\u001b[0m",
      "\u001b[0;31mKeyError\u001b[0m                                  Traceback (most recent call last)",
      "\u001b[0;32m/anaconda3/lib/python3.6/site-packages/pandas/core/indexing.py\u001b[0m in \u001b[0;36m_has_valid_type\u001b[0;34m(self, key, axis)\u001b[0m\n\u001b[1;32m   1505\u001b[0m                 \u001b[0;32mif\u001b[0m \u001b[0;32mnot\u001b[0m \u001b[0max\u001b[0m\u001b[0;34m.\u001b[0m\u001b[0mcontains\u001b[0m\u001b[0;34m(\u001b[0m\u001b[0mkey\u001b[0m\u001b[0;34m)\u001b[0m\u001b[0;34m:\u001b[0m\u001b[0;34m\u001b[0m\u001b[0m\n\u001b[0;32m-> 1506\u001b[0;31m                     \u001b[0merror\u001b[0m\u001b[0;34m(\u001b[0m\u001b[0;34m)\u001b[0m\u001b[0;34m\u001b[0m\u001b[0m\n\u001b[0m\u001b[1;32m   1507\u001b[0m             \u001b[0;32mexcept\u001b[0m \u001b[0mTypeError\u001b[0m \u001b[0;32mas\u001b[0m \u001b[0me\u001b[0m\u001b[0;34m:\u001b[0m\u001b[0;34m\u001b[0m\u001b[0m\n",
      "\u001b[0;32m/anaconda3/lib/python3.6/site-packages/pandas/core/indexing.py\u001b[0m in \u001b[0;36merror\u001b[0;34m()\u001b[0m\n\u001b[1;32m   1500\u001b[0m                                .format(key=key,\n\u001b[0;32m-> 1501\u001b[0;31m                                        axis=self.obj._get_axis_name(axis)))\n\u001b[0m\u001b[1;32m   1502\u001b[0m \u001b[0;34m\u001b[0m\u001b[0m\n",
      "\u001b[0;31mKeyError\u001b[0m: 'the label [5884] is not in the [index]'",
      "\nDuring handling of the above exception, another exception occurred:\n",
      "\u001b[0;31mKeyError\u001b[0m                                  Traceback (most recent call last)",
      "\u001b[0;32m<ipython-input-157-439eb41807e1>\u001b[0m in \u001b[0;36m<module>\u001b[0;34m()\u001b[0m\n\u001b[1;32m      2\u001b[0m \u001b[0;34m\u001b[0m\u001b[0m\n\u001b[1;32m      3\u001b[0m \u001b[0;32mfor\u001b[0m \u001b[0mi\u001b[0m \u001b[0;32min\u001b[0m \u001b[0mchecker1\u001b[0m\u001b[0;34m:\u001b[0m\u001b[0;34m\u001b[0m\u001b[0m\n\u001b[0;32m----> 4\u001b[0;31m     \u001b[0;32mif\u001b[0m \u001b[0mdf_proj\u001b[0m\u001b[0;34m[\u001b[0m\u001b[0;34m'School State'\u001b[0m\u001b[0;34m]\u001b[0m\u001b[0;34m.\u001b[0m\u001b[0mloc\u001b[0m\u001b[0;34m[\u001b[0m\u001b[0mi\u001b[0m\u001b[0;34m]\u001b[0m \u001b[0;34m!=\u001b[0m \u001b[0;36m1\u001b[0m\u001b[0;34m:\u001b[0m \u001b[0mcheck\u001b[0m \u001b[0;34m+=\u001b[0m \u001b[0;36m1\u001b[0m\u001b[0;34m\u001b[0m\u001b[0m\n\u001b[0m\u001b[1;32m      5\u001b[0m \u001b[0;34m\u001b[0m\u001b[0m\n\u001b[1;32m      6\u001b[0m \u001b[0;32mfor\u001b[0m \u001b[0mi\u001b[0m \u001b[0;32min\u001b[0m \u001b[0mchecker2\u001b[0m\u001b[0;34m:\u001b[0m\u001b[0;34m\u001b[0m\u001b[0m\n",
      "\u001b[0;32m/anaconda3/lib/python3.6/site-packages/pandas/core/indexing.py\u001b[0m in \u001b[0;36m__getitem__\u001b[0;34m(self, key)\u001b[0m\n\u001b[1;32m   1371\u001b[0m \u001b[0;34m\u001b[0m\u001b[0m\n\u001b[1;32m   1372\u001b[0m             \u001b[0mmaybe_callable\u001b[0m \u001b[0;34m=\u001b[0m \u001b[0mcom\u001b[0m\u001b[0;34m.\u001b[0m\u001b[0m_apply_if_callable\u001b[0m\u001b[0;34m(\u001b[0m\u001b[0mkey\u001b[0m\u001b[0;34m,\u001b[0m \u001b[0mself\u001b[0m\u001b[0;34m.\u001b[0m\u001b[0mobj\u001b[0m\u001b[0;34m)\u001b[0m\u001b[0;34m\u001b[0m\u001b[0m\n\u001b[0;32m-> 1373\u001b[0;31m             \u001b[0;32mreturn\u001b[0m \u001b[0mself\u001b[0m\u001b[0;34m.\u001b[0m\u001b[0m_getitem_axis\u001b[0m\u001b[0;34m(\u001b[0m\u001b[0mmaybe_callable\u001b[0m\u001b[0;34m,\u001b[0m \u001b[0maxis\u001b[0m\u001b[0;34m=\u001b[0m\u001b[0maxis\u001b[0m\u001b[0;34m)\u001b[0m\u001b[0;34m\u001b[0m\u001b[0m\n\u001b[0m\u001b[1;32m   1374\u001b[0m \u001b[0;34m\u001b[0m\u001b[0m\n\u001b[1;32m   1375\u001b[0m     \u001b[0;32mdef\u001b[0m \u001b[0m_is_scalar_access\u001b[0m\u001b[0;34m(\u001b[0m\u001b[0mself\u001b[0m\u001b[0;34m,\u001b[0m \u001b[0mkey\u001b[0m\u001b[0;34m)\u001b[0m\u001b[0;34m:\u001b[0m\u001b[0;34m\u001b[0m\u001b[0m\n",
      "\u001b[0;32m/anaconda3/lib/python3.6/site-packages/pandas/core/indexing.py\u001b[0m in \u001b[0;36m_getitem_axis\u001b[0;34m(self, key, axis)\u001b[0m\n\u001b[1;32m   1624\u001b[0m \u001b[0;34m\u001b[0m\u001b[0m\n\u001b[1;32m   1625\u001b[0m         \u001b[0;31m# fall thru to straight lookup\u001b[0m\u001b[0;34m\u001b[0m\u001b[0;34m\u001b[0m\u001b[0m\n\u001b[0;32m-> 1626\u001b[0;31m         \u001b[0mself\u001b[0m\u001b[0;34m.\u001b[0m\u001b[0m_has_valid_type\u001b[0m\u001b[0;34m(\u001b[0m\u001b[0mkey\u001b[0m\u001b[0;34m,\u001b[0m \u001b[0maxis\u001b[0m\u001b[0;34m)\u001b[0m\u001b[0;34m\u001b[0m\u001b[0m\n\u001b[0m\u001b[1;32m   1627\u001b[0m         \u001b[0;32mreturn\u001b[0m \u001b[0mself\u001b[0m\u001b[0;34m.\u001b[0m\u001b[0m_get_label\u001b[0m\u001b[0;34m(\u001b[0m\u001b[0mkey\u001b[0m\u001b[0;34m,\u001b[0m \u001b[0maxis\u001b[0m\u001b[0;34m=\u001b[0m\u001b[0maxis\u001b[0m\u001b[0;34m)\u001b[0m\u001b[0;34m\u001b[0m\u001b[0m\n\u001b[1;32m   1628\u001b[0m \u001b[0;34m\u001b[0m\u001b[0m\n",
      "\u001b[0;32m/anaconda3/lib/python3.6/site-packages/pandas/core/indexing.py\u001b[0m in \u001b[0;36m_has_valid_type\u001b[0;34m(self, key, axis)\u001b[0m\n\u001b[1;32m   1512\u001b[0m                 \u001b[0;32mraise\u001b[0m\u001b[0;34m\u001b[0m\u001b[0m\n\u001b[1;32m   1513\u001b[0m             \u001b[0;32mexcept\u001b[0m\u001b[0;34m:\u001b[0m\u001b[0;34m\u001b[0m\u001b[0m\n\u001b[0;32m-> 1514\u001b[0;31m                 \u001b[0merror\u001b[0m\u001b[0;34m(\u001b[0m\u001b[0;34m)\u001b[0m\u001b[0;34m\u001b[0m\u001b[0m\n\u001b[0m\u001b[1;32m   1515\u001b[0m \u001b[0;34m\u001b[0m\u001b[0m\n\u001b[1;32m   1516\u001b[0m         \u001b[0;32mreturn\u001b[0m \u001b[0;32mTrue\u001b[0m\u001b[0;34m\u001b[0m\u001b[0m\n",
      "\u001b[0;32m/anaconda3/lib/python3.6/site-packages/pandas/core/indexing.py\u001b[0m in \u001b[0;36merror\u001b[0;34m()\u001b[0m\n\u001b[1;32m   1499\u001b[0m                 raise KeyError(u\"the label [{key}] is not in the [{axis}]\"\n\u001b[1;32m   1500\u001b[0m                                .format(key=key,\n\u001b[0;32m-> 1501\u001b[0;31m                                        axis=self.obj._get_axis_name(axis)))\n\u001b[0m\u001b[1;32m   1502\u001b[0m \u001b[0;34m\u001b[0m\u001b[0m\n\u001b[1;32m   1503\u001b[0m             \u001b[0;32mtry\u001b[0m\u001b[0;34m:\u001b[0m\u001b[0;34m\u001b[0m\u001b[0m\n",
      "\u001b[0;31mKeyError\u001b[0m: 'the label [5884] is not in the [index]'"
     ]
    }
   ],
   "source": [
    "check = 0 \n",
    "\n",
    "for i in checker1:\n",
    "    if df_proj['School State'].loc[i] != 1: check += 1\n",
    "\n",
    "for i in checker2:\n",
    "    if df_proj['School Metro Type'].loc[i] != 2: check += 1\n",
    "        \n",
    "if check==0: print('Label Encoding Success') \n",
    "else: print('Label Encoding Error')"
   ]
  },
  {
   "cell_type": "markdown",
   "metadata": {},
   "source": [
    "#### Randomly sampling an arbitrary number of datapoints for initial analysis"
   ]
  },
  {
   "cell_type": "code",
   "execution_count": 131,
   "metadata": {
    "ExecuteTime": {
     "end_time": "2018-06-04T14:34:18.659147Z",
     "start_time": "2018-06-04T14:34:18.617139Z"
    },
    "collapsed": true
   },
   "outputs": [],
   "source": [
    "n_rows = 50000\n",
    "df_proj_ = df_proj.sample(n = n_rows, random_state = 123, axis = 0)\n",
    "X = df_proj_"
   ]
  },
  {
   "cell_type": "markdown",
   "metadata": {},
   "source": [
    "### KMeans Clustering: Projects Data"
   ]
  },
  {
   "cell_type": "code",
   "execution_count": 135,
   "metadata": {
    "ExecuteTime": {
     "end_time": "2018-06-04T14:34:47.926990Z",
     "start_time": "2018-06-04T14:34:47.023179Z"
    },
    "scrolled": true
   },
   "outputs": [
    {
     "data": {
      "image/png": "[encoded data removed]",
      "text/plain": [
       "<Figure size 432x288 with 1 Axes>"
      ]
     },
     "metadata": {},
     "output_type": "display_data"
    }
   ],
   "source": [
    "from sklearn.cluster import KMeans\n",
    "kmeans_proj = KMeans(n_clusters = 4).fit(X)\n",
    "for i in range(len(kmeans_proj.cluster_centers_)):\n",
    "    plt.plot(kmeans_proj.cluster_centers_[i][0],kmeans_proj.cluster_centers_[i][1],'x', markersize=12, label=i);\n",
    "    plt.xticks([], [])\n",
    "    plt.yticks([], [])\n",
    "    plt.legend(loc=4)"
   ]
  },
  {
   "cell_type": "markdown",
   "metadata": {},
   "source": [
    "**Observations:** `n_clusters = 4` generates the most ideal separation among clusters from `n_clusters 1-10`"
   ]
  },
  {
   "cell_type": "markdown",
   "metadata": {},
   "source": [
    "#### Storing Project ID in corresponding clusters"
   ]
  },
  {
   "cell_type": "code",
   "execution_count": 137,
   "metadata": {
    "ExecuteTime": {
     "end_time": "2018-06-04T14:37:01.372473Z",
     "start_time": "2018-06-04T14:37:01.281326Z"
    },
    "collapsed": true
   },
   "outputs": [],
   "source": [
    "cluster0 = df.iloc[X.iloc[kmeans_proj.labels_==0,:].index]['Project ID']\n",
    "cluster1 = df.iloc[X.iloc[kmeans_proj.labels_==1,:].index]['Project ID']\n",
    "cluster2 = df.iloc[X.iloc[kmeans_proj.labels_==2,:].index]['Project ID']\n",
    "cluster3 = df.iloc[X.iloc[kmeans_proj.labels_==3,:].index]['Project ID']"
   ]
  },
  {
   "cell_type": "code",
   "execution_count": 145,
   "metadata": {
    "ExecuteTime": {
     "end_time": "2018-06-04T14:38:31.880437Z",
     "start_time": "2018-06-04T14:38:31.866938Z"
    },
    "collapsed": true
   },
   "outputs": [
    {
     "data": {
      "text/plain": [
       "Indiana           1443\n",
       "New York           726\n",
       "California         541\n",
       "New Jersey         413\n",
       "Florida            408\n",
       "Texas              322\n",
       "Massachusetts      257\n",
       "Michigan           219\n",
       "Montana            126\n",
       "North Carolina     123\n",
       "Maryland           106\n",
       "Illinois           104\n",
       "Mississippi         88\n",
       "Ohio                78\n",
       "Alabama             66\n",
       "Connecticut         62\n",
       "Arizona             50\n",
       "Missouri            47\n",
       "Pennsylvania        45\n",
       "Georgia             35\n",
       "Wisconsin           31\n",
       "Washington          29\n",
       "South Carolina      23\n",
       "Virginia            20\n",
       "Colorado            19\n",
       "Oklahoma            19\n",
       "Tennessee           18\n",
       "Oregon              17\n",
       "Louisiana           11\n",
       "Hawaii               9\n",
       "Kansas               6\n",
       "Idaho                5\n",
       "Utah                 3\n",
       "Kentucky             2\n",
       "Name: School State, dtype: int64"
      ]
     },
     "execution_count": 145,
     "metadata": {},
     "output_type": "execute_result"
    }
   ],
   "source": [
    "df['School State'].iloc[cluster0.index].value_counts()"
   ]
  },
  {
   "cell_type": "code",
   "execution_count": 147,
   "metadata": {
    "ExecuteTime": {
     "end_time": "2018-06-04T14:40:05.033305Z",
     "start_time": "2018-06-04T14:40:05.026381Z"
    },
    "collapsed": true
   },
   "outputs": [],
   "source": [
    "y = kmeans_proj.labels_"
   ]
  },
  {
   "cell_type": "markdown",
   "metadata": {},
   "source": [
    "# Clustering Donations"
   ]
  },
  {
   "cell_type": "markdown",
   "metadata": {},
   "source": [
    "#### Creating a new `df_don` dataframe"
   ]
  },
  {
   "cell_type": "code",
   "execution_count": 165,
   "metadata": {
    "ExecuteTime": {
     "end_time": "2018-06-04T14:48:53.073829Z",
     "start_time": "2018-06-04T14:48:53.017483Z"
    },
    "collapsed": true
   },
   "outputs": [],
   "source": [
    "df_don =pd.DataFrame()\n",
    "df_don = df.drop(labels=date_feat,axis = 1)"
   ]
  },
  {
   "cell_type": "markdown",
   "metadata": {},
   "source": [
    "#### Selecting features for donations"
   ]
  },
  {
   "cell_type": "code",
   "execution_count": 166,
   "metadata": {
    "ExecuteTime": {
     "end_time": "2018-06-04T14:48:54.644424Z",
     "start_time": "2018-06-04T14:48:54.034809Z"
    },
    "collapsed": true
   },
   "outputs": [],
   "source": [
    "for x in df_don.columns.tolist():\n",
    "    if x in project_feat:\n",
    "        df_don.drop(labels=x, axis=1, inplace=True)\n",
    "    elif x in not_useful:\n",
    "        df_don.drop(labels=x, axis=1, inplace=True)"
   ]
  },
  {
   "cell_type": "markdown",
   "metadata": {},
   "source": [
    "#### Populating the list of categorical variables for the new dataframe"
   ]
  },
  {
   "cell_type": "code",
   "execution_count": 167,
   "metadata": {
    "ExecuteTime": {
     "end_time": "2018-06-04T14:48:55.593421Z",
     "start_time": "2018-06-04T14:48:55.585548Z"
    },
    "collapsed": true
   },
   "outputs": [],
   "source": [
    "cat_feat_don = []\n",
    "for x in df_don.columns.tolist(): \n",
    "    if x in cat_feat:\n",
    "        cat_feat_don.append(x)"
   ]
  },
  {
   "cell_type": "markdown",
   "metadata": {},
   "source": [
    "#### Dropping NaN values"
   ]
  },
  {
   "cell_type": "code",
   "execution_count": 168,
   "metadata": {
    "ExecuteTime": {
     "end_time": "2018-06-04T14:48:57.386398Z",
     "start_time": "2018-06-04T14:48:57.347464Z"
    },
    "collapsed": true
   },
   "outputs": [],
   "source": [
    "df_don.dropna(axis=0, inplace=True)\n",
    "#df_proj[pd.isnull(df_new).any(axis=1)]"
   ]
  },
  {
   "cell_type": "code",
   "execution_count": 169,
   "metadata": {
    "ExecuteTime": {
     "end_time": "2018-06-04T14:48:58.534080Z",
     "start_time": "2018-06-04T14:48:58.515339Z"
    }
   },
   "outputs": [
    {
     "data": {
      "text/plain": [
       "Index(['Donation Amount', 'Donor City', 'Donor State', 'Donor Is Teacher',\n",
       "       'Donor Zip'],\n",
       "      dtype='object')"
      ]
     },
     "execution_count": 169,
     "metadata": {},
     "output_type": "execute_result"
    }
   ],
   "source": [
    "df_don.columns"
   ]
  },
  {
   "cell_type": "markdown",
   "metadata": {},
   "source": [
    "#### Encoding numerical labels into categorical variables"
   ]
  },
  {
   "cell_type": "code",
   "execution_count": 170,
   "metadata": {
    "ExecuteTime": {
     "end_time": "2018-06-04T14:49:00.425533Z",
     "start_time": "2018-06-04T14:49:00.394857Z"
    }
   },
   "outputs": [],
   "source": [
    "checker1 = df_don[df_don['Donor State']=='Alaska'].index.tolist()\n",
    "checker2 = df_don[df_don['Donor City']=='Aberdeen'].index.tolist()"
   ]
  },
  {
   "cell_type": "code",
   "execution_count": 171,
   "metadata": {
    "ExecuteTime": {
     "end_time": "2018-06-04T14:49:02.548929Z",
     "start_time": "2018-06-04T14:49:02.164785Z"
    },
    "collapsed": true
   },
   "outputs": [],
   "source": [
    "labels_don = {}\n",
    "for cat_feat_don in cat_feat_don:\n",
    "    le = LabelEncoder()\n",
    "    le.fit(df_don[cat_feat_don].value_counts().index.values)\n",
    "    \n",
    "    if df_don[cat_feat_don].dtype == 'float64' or\\\n",
    "    df_don[cat_feat_don].dtype == 'int':\n",
    "        df_don[cat_feat_don] = le.transform(df_don[cat_feat_don])\n",
    "    \n",
    "    else:\n",
    "        df_don[cat_feat_don] = le.transform(df_don[cat_feat_don].astype(str))\n",
    "    \n",
    "    labels_don[cat_feat_don] = list(le.classes_)"
   ]
  },
  {
   "cell_type": "markdown",
   "metadata": {},
   "source": [
    "#### Checking whether label encoding is done properly"
   ]
  },
  {
   "cell_type": "code",
   "execution_count": 172,
   "metadata": {
    "ExecuteTime": {
     "end_time": "2018-06-04T14:49:04.742890Z",
     "start_time": "2018-06-04T14:49:04.717680Z"
    }
   },
   "outputs": [
    {
     "name": "stdout",
     "output_type": "stream",
     "text": [
      "Label Encoding Success\n"
     ]
    }
   ],
   "source": [
    "check = 0 \n",
    "\n",
    "for i in checker1:\n",
    "    if df_don['Donor State'].loc[i] != 1: check += 1\n",
    "\n",
    "for i in checker2:\n",
    "    if df_don['Donor City'].loc[i] != 1: check += 1\n",
    "        \n",
    "if check==0: print('Label Encoding Success') \n",
    "else: print('Label Encoding Error')"
   ]
  },
  {
   "cell_type": "markdown",
   "metadata": {},
   "source": [
    "#### Randomly sampling an arbitrary number of datapoints for initial analysis"
   ]
  },
  {
   "cell_type": "code",
   "execution_count": 175,
   "metadata": {
    "ExecuteTime": {
     "end_time": "2018-06-04T14:49:53.692211Z",
     "start_time": "2018-06-04T14:49:53.676880Z"
    },
    "collapsed": true
   },
   "outputs": [],
   "source": [
    "n_rows = 50000\n",
    "df_don_ = df_don.sample(n = n_rows, random_state = 123, axis = 0)\n",
    "X = df_don_"
   ]
  },
  {
   "cell_type": "markdown",
   "metadata": {},
   "source": [
    "### KMeans Clustering: Donations Data"
   ]
  },
  {
   "cell_type": "code",
   "execution_count": 184,
   "metadata": {
    "ExecuteTime": {
     "end_time": "2018-06-04T14:51:10.528937Z",
     "start_time": "2018-06-04T14:51:09.311660Z"
    },
    "scrolled": true
   },
   "outputs": [
    {
     "data": {
      "image/png": "[encoded data removed]",
      "text/plain": [
       "<Figure size 432x288 with 1 Axes>"
      ]
     },
     "metadata": {},
     "output_type": "display_data"
    }
   ],
   "source": [
    "from sklearn.cluster import KMeans\n",
    "kmeans_don = KMeans(n_clusters =6).fit(X)\n",
    "for i in range(len(kmeans_don.cluster_centers_)):\n",
    "    plt.plot(kmeans_don.cluster_centers_[i][0],kmeans_don.cluster_centers_[i][1],'x', markersize=12, label=i);\n",
    "    plt.xticks([], [])\n",
    "    plt.yticks([], [])\n",
    "    plt.legend(loc=4)"
   ]
  },
  {
   "cell_type": "markdown",
   "metadata": {},
   "source": [
    "**Observations:** `n_clusters = 6` generates the most ideal separation among clusters from `n_clusters 1-10`"
   ]
  },
  {
   "cell_type": "markdown",
   "metadata": {},
   "source": [
    "#### Storing Donor ID in corresponding clusters"
   ]
  },
  {
   "cell_type": "code",
   "execution_count": 185,
   "metadata": {
    "ExecuteTime": {
     "end_time": "2018-06-04T14:53:03.872747Z",
     "start_time": "2018-06-04T14:53:03.796393Z"
    },
    "collapsed": true
   },
   "outputs": [],
   "source": [
    "cluster0 = df.iloc[X.iloc[kmeans_don.labels_==0,:].index]['Donor ID']\n",
    "cluster1 = df.iloc[X.iloc[kmeans_don.labels_==1,:].index]['Donor ID']\n",
    "cluster2 = df.iloc[X.iloc[kmeans_don.labels_==2,:].index]['Donor ID']\n",
    "cluster3 = df.iloc[X.iloc[kmeans_don.labels_==3,:].index]['Donor ID']\n",
    "cluster4 = df.iloc[X.iloc[kmeans_don.labels_==4,:].index]['Donor ID']\n",
    "cluster5 = df.iloc[X.iloc[kmeans_don.labels_==5,:].index]['Donor ID']\n"
   ]
  }
 ],
 "metadata": {
  "kernelspec": {
   "display_name": "Python 3",
   "language": "python",
   "name": "python3"
  },
  "language_info": {
   "codemirror_mode": {
    "name": "ipython",
    "version": 3
   },
   "file_extension": ".py",
   "mimetype": "text/x-python",
   "name": "python",
   "nbconvert_exporter": "python",
   "pygments_lexer": "ipython3",
   "version": "3.6.3"
  }
 },
 "nbformat": 4,
 "nbformat_minor": 2
}
