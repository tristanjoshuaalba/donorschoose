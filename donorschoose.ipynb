{
 "cells": [
  {
   "cell_type": "markdown",
   "metadata": {},
   "source": [
    "# Helping Donors Choose Donorschoose.org\n",
    "<p style=\"font-size:18px\"> A Kernel Submission to the Data Science for Good Kaggle Competition with Donorschoose.org </p>\n",
    "<img src=\"donorschoose-image.png\" alt=\"DonorsChoose.org\" width=\"500\" height=\"200\">"
   ]
  },
  {
   "cell_type": "markdown",
   "metadata": {},
   "source": [
    "## About DonorsChoose.org"
   ]
  },
  {
   "cell_type": "markdown",
   "metadata": {},
   "source": []
  },
  {
   "cell_type": "markdown",
   "metadata": {},
   "source": [
    "## About the Data"
   ]
  },
  {
   "cell_type": "markdown",
   "metadata": {},
   "source": []
  },
  {
   "cell_type": "markdown",
   "metadata": {},
   "source": [
    "## Questions we would like to ask"
   ]
  },
  {
   "cell_type": "markdown",
   "metadata": {},
   "source": []
  },
  {
   "cell_type": "markdown",
   "metadata": {},
   "source": [
    "## Results of Analysis"
   ]
  },
  {
   "cell_type": "markdown",
   "metadata": {},
   "source": [
    "### Initialization & Data Loading"
   ]
  },
  {
   "cell_type": "code",
   "execution_count": 1,
   "metadata": {
    "ExecuteTime": {
     "end_time": "2018-06-04T16:31:21.587439Z",
     "start_time": "2018-06-04T16:31:20.037373Z"
    }
   },
   "outputs": [],
   "source": [
    "import pandas as pd\n",
    "import numpy as np\n",
    "import matplotlib.pyplot as plt\n",
    "%matplotlib inline\n",
    "from collections import OrderedDict\n",
    "from sklearn.preprocessing import LabelEncoder"
   ]
  },
  {
   "cell_type": "code",
   "execution_count": 2,
   "metadata": {
    "ExecuteTime": {
     "end_time": "2018-06-04T16:31:24.717910Z",
     "start_time": "2018-06-04T16:31:21.590658Z"
    }
   },
   "outputs": [],
   "source": [
    "filepath = '/Users/tristan.j.alba/Google Drive/ds_projects/datascience/'\n",
    "df = pd.read_csv(filepath+'consolidated_df_sampled.csv').iloc[:,1:]"
   ]
  },
  {
   "cell_type": "markdown",
   "metadata": {},
   "source": [
    "### Data Wrangling: Label Encoding"
   ]
  },
  {
   "cell_type": "code",
   "execution_count": 3,
   "metadata": {
    "ExecuteTime": {
     "end_time": "2018-06-04T16:31:24.733597Z",
     "start_time": "2018-06-04T16:31:24.721167Z"
    },
    "scrolled": false
   },
   "outputs": [
    {
     "data": {
      "text/plain": [
       "Index(['Project ID', 'Donation ID', 'Donor ID',\n",
       "       'Donation Included Optional Donation', 'Donation Amount',\n",
       "       'Donor Cart Sequence', 'Donation Received Date', 'Resource Item Name',\n",
       "       'Resource Quantity', 'Resource Unit Price', 'Resource Vendor Name',\n",
       "       'Donor City', 'Donor State', 'Donor Is Teacher', 'Donor Zip',\n",
       "       'School ID', 'Teacher ID', 'Teacher Project Posted Sequence',\n",
       "       'Project Type', 'Project Title', 'Project Essay',\n",
       "       'Project Short Description', 'Project Need Statement',\n",
       "       'Project Subject Category Tree', 'Project Subject Subcategory Tree',\n",
       "       'Project Grade Level Category', 'Project Resource Category',\n",
       "       'Project Cost', 'Project Posted Date', 'Project Expiration Date',\n",
       "       'Project Current Status', 'Project Fully Funded Date', 'Teacher Prefix',\n",
       "       'Teacher First Project Posted Date', 'School Name', 'School Metro Type',\n",
       "       'School Percentage Free Lunch', 'School State', 'School Zip',\n",
       "       'School City', 'School County', 'School District'],\n",
       "      dtype='object')"
      ]
     },
     "execution_count": 3,
     "metadata": {},
     "output_type": "execute_result"
    }
   ],
   "source": [
    "features = df.columns\n",
    "features"
   ]
  },
  {
   "cell_type": "markdown",
   "metadata": {},
   "source": [
    "#### Identifying useful features and categorical variables"
   ]
  },
  {
   "cell_type": "code",
   "execution_count": 4,
   "metadata": {
    "ExecuteTime": {
     "end_time": "2018-06-04T16:31:24.774394Z",
     "start_time": "2018-06-04T16:31:24.738547Z"
    },
    "collapsed": true
   },
   "outputs": [],
   "source": [
    "not_useful = ['Project ID', 'Donation ID','Donor ID','Donation Included Optional Donation',\n",
    "          'Donor Cart Sequence','Resource Vendor Name','Resource Item Name', \n",
    "              'Teacher Project Posted Sequence','School ID', 'Teacher ID',\n",
    "          'Project Title', 'Project Essay','Project Short Description',\n",
    "          'Project Need Statement','School Name']\n",
    "\n",
    "date_feat = ['Donation Received Date','Project Posted Date', 'Project Expiration Date',\n",
    "        'Project Fully Funded Date','Teacher First Project Posted Date']\n",
    "\n",
    "donor_feat = ['Donation ID', 'Donor ID',\n",
    "       'Donation Included Optional Donation', 'Donation Amount',\n",
    "       'Donor Cart Sequence', 'Donation Received Date', \n",
    "       'Donor City', 'Donor State', 'Donor Is Teacher', 'Donor Zip']\n",
    "\n",
    "project_feat = ['Resource Item Name',\n",
    "       'Resource Quantity', 'Resource Unit Price', 'Resource Vendor Name',\n",
    "       'Project Type', 'Project Title', 'Project Essay',\n",
    "       'Project Short Description', 'Project Need Statement',\n",
    "       'Project Subject Category Tree', 'Project Subject Subcategory Tree',\n",
    "       'Project Grade Level Category', 'Project Resource Category',\n",
    "       'Project Cost', 'Project Posted Date', 'Project Expiration Date',\n",
    "       'Project Current Status', 'Project Fully Funded Date', 'Teacher Prefix',\n",
    "       'Teacher First Project Posted Date', 'School Name', 'School Metro Type',\n",
    "       'School Percentage Free Lunch', 'School State', 'School Zip',\n",
    "       'School City', 'School County', 'School District']\n",
    "\n",
    "cat_feat = ['Donor City', 'Donor State', 'Donor Is Teacher', 'Donor Zip',\n",
    "            'Project Type','Project Subject Category Tree', \n",
    "            'Project Subject Subcategory Tree',\n",
    "            'Project Grade Level Category', 'Project Resource Category',\n",
    "            'Project Current Status','Teacher Prefix','School Metro Type',\n",
    "            'School State', 'School Zip','School City','School County', 'School District']\n",
    "            \n",
    "            "
   ]
  },
  {
   "cell_type": "markdown",
   "metadata": {},
   "source": [
    "#### Dropping not so useful features"
   ]
  },
  {
   "cell_type": "code",
   "execution_count": 5,
   "metadata": {
    "ExecuteTime": {
     "end_time": "2018-06-04T16:31:24.809184Z",
     "start_time": "2018-06-04T16:31:24.778714Z"
    },
    "scrolled": true
   },
   "outputs": [],
   "source": [
    "df_new = df.drop(labels=not_useful,axis = 1)"
   ]
  },
  {
   "cell_type": "markdown",
   "metadata": {},
   "source": [
    "#### Dropping datetime features (for now)"
   ]
  },
  {
   "cell_type": "code",
   "execution_count": 6,
   "metadata": {
    "ExecuteTime": {
     "end_time": "2018-06-04T16:31:24.852044Z",
     "start_time": "2018-06-04T16:31:24.813320Z"
    },
    "scrolled": false
   },
   "outputs": [],
   "source": [
    "df_new = df_new.drop(labels=date_feat,axis = 1)"
   ]
  },
  {
   "cell_type": "code",
   "execution_count": 7,
   "metadata": {
    "ExecuteTime": {
     "end_time": "2018-06-04T16:31:24.864718Z",
     "start_time": "2018-06-04T16:31:24.855859Z"
    },
    "scrolled": true
   },
   "outputs": [],
   "source": [
    "cat_feat_new = []\n",
    "for x in df_new.columns.tolist(): \n",
    "    if x in cat_feat:\n",
    "        cat_feat_new.append(x)"
   ]
  },
  {
   "cell_type": "markdown",
   "metadata": {},
   "source": [
    "#### Dropping NaN values"
   ]
  },
  {
   "cell_type": "code",
   "execution_count": 8,
   "metadata": {
    "ExecuteTime": {
     "end_time": "2018-06-04T16:31:25.037394Z",
     "start_time": "2018-06-04T16:31:24.870005Z"
    }
   },
   "outputs": [],
   "source": [
    "df_new.dropna(axis=0, inplace=True)\n",
    "#df_new[pd.isnull(df_new).any(axis=1)]"
   ]
  },
  {
   "cell_type": "markdown",
   "metadata": {},
   "source": [
    "#### Encoding numerical labels into categorical variables"
   ]
  },
  {
   "cell_type": "code",
   "execution_count": 9,
   "metadata": {
    "ExecuteTime": {
     "end_time": "2018-06-04T16:31:25.066643Z",
     "start_time": "2018-06-04T16:31:25.040819Z"
    }
   },
   "outputs": [],
   "source": [
    "checker1 = df_new[df_new['School State']=='Alaska'].index.tolist()\n",
    "checker2 = df_new[df_new['School Metro Type']=='town'].index.tolist()"
   ]
  },
  {
   "cell_type": "code",
   "execution_count": 10,
   "metadata": {
    "ExecuteTime": {
     "end_time": "2018-06-04T16:31:26.618705Z",
     "start_time": "2018-06-04T16:31:25.069756Z"
    },
    "scrolled": true
   },
   "outputs": [],
   "source": [
    "labels = {}\n",
    "for cat_feat_new in cat_feat_new:\n",
    "    le = LabelEncoder()\n",
    "    le.fit(df_new[cat_feat_new].value_counts().index.values)\n",
    "    \n",
    "    if df_new[cat_feat_new].dtype == 'float64' or\\\n",
    "    df_new[cat_feat_new].dtype == 'int':\n",
    "        df_new[cat_feat_new] = le.transform(df_new[cat_feat_new])\n",
    "    \n",
    "    else:\n",
    "        df_new[cat_feat_new] = le.transform(df_new[cat_feat_new].astype(str))\n",
    "    \n",
    "    labels[cat_feat_new] = list(le.classes_)"
   ]
  },
  {
   "cell_type": "markdown",
   "metadata": {},
   "source": [
    "#### Checking whether label encoding is done properly"
   ]
  },
  {
   "cell_type": "code",
   "execution_count": 11,
   "metadata": {
    "ExecuteTime": {
     "end_time": "2018-06-04T16:31:26.798090Z",
     "start_time": "2018-06-04T16:31:26.622094Z"
    },
    "scrolled": true
   },
   "outputs": [
    {
     "name": "stdout",
     "output_type": "stream",
     "text": [
      "Label Encoding Success\n"
     ]
    }
   ],
   "source": [
    "check = 0 \n",
    "\n",
    "for i in checker1:\n",
    "    if df_new['School State'].loc[i] != 1: check += 1\n",
    "\n",
    "for i in checker2:\n",
    "    if df_new['School Metro Type'].loc[i] != 2: check += 1\n",
    "        \n",
    "if check==0: print('Label Encoding Success') \n",
    "else: print('Label Encoding Error')"
   ]
  },
  {
   "cell_type": "markdown",
   "metadata": {},
   "source": [
    "#### Randomly sampling an arbitrary number of datapoints for initial analysis"
   ]
  },
  {
   "cell_type": "code",
   "execution_count": 12,
   "metadata": {
    "ExecuteTime": {
     "end_time": "2018-06-04T16:31:26.883484Z",
     "start_time": "2018-06-04T16:31:26.803100Z"
    }
   },
   "outputs": [],
   "source": [
    "n_rows = 50000\n",
    "df_ = df_new.sample(n = n_rows, random_state = 123, axis = 0)\n",
    "X = df_"
   ]
  },
  {
   "cell_type": "markdown",
   "metadata": {
    "ExecuteTime": {
     "end_time": "2018-06-04T11:50:15.298665Z",
     "start_time": "2018-06-04T11:50:15.292827Z"
    }
   },
   "source": [
    "### KMeans Clustering"
   ]
  },
  {
   "cell_type": "code",
   "execution_count": 13,
   "metadata": {
    "ExecuteTime": {
     "end_time": "2018-06-04T16:31:28.368573Z",
     "start_time": "2018-06-04T16:31:26.887488Z"
    },
    "scrolled": false
   },
   "outputs": [
    {
     "data": {
      "image/png": "[encoded data removed]",
      "text/plain": [
       "<Figure size 432x288 with 1 Axes>"
      ]
     },
     "metadata": {},
     "output_type": "display_data"
    }
   ],
   "source": [
    "from sklearn.cluster import KMeans\n",
    "kmeans = KMeans(n_clusters = 5).fit(X)\n",
    "for i in range(len(kmeans.cluster_centers_)):\n",
    "    plt.plot(kmeans.cluster_centers_[i][0],kmeans.cluster_centers_[i][1],'x', markersize=12, label=i);\n",
    "    plt.xticks([], [])\n",
    "    plt.yticks([], [])\n",
    "    plt.legend(loc=4)"
   ]
  },
  {
   "cell_type": "markdown",
   "metadata": {},
   "source": [
    "**Observations:** `n_clusters = 5` generates the most ideal separation among clusters from `n_clusters 1-10`"
   ]
  },
  {
   "cell_type": "markdown",
   "metadata": {},
   "source": [
    "#### Storing Donor ID in corresponding clusters"
   ]
  },
  {
   "cell_type": "code",
   "execution_count": 14,
   "metadata": {
    "ExecuteTime": {
     "end_time": "2018-06-04T16:31:28.468952Z",
     "start_time": "2018-06-04T16:31:28.372553Z"
    },
    "collapsed": true
   },
   "outputs": [],
   "source": [
    "cluster0 = df.iloc[X.iloc[kmeans.labels_==0,:].index]['Donor ID']\n",
    "cluster1 = df.iloc[X.iloc[kmeans.labels_==1,:].index]['Donor ID']\n",
    "cluster2 = df.iloc[X.iloc[kmeans.labels_==2,:].index]['Donor ID']\n",
    "cluster3 = df.iloc[X.iloc[kmeans.labels_==3,:].index]['Donor ID']\n",
    "cluster4 = df.iloc[X.iloc[kmeans.labels_==4,:].index]['Donor ID']"
   ]
  },
  {
   "cell_type": "code",
   "execution_count": 15,
   "metadata": {
    "ExecuteTime": {
     "end_time": "2018-06-04T16:31:28.490304Z",
     "start_time": "2018-06-04T16:31:28.476948Z"
    },
    "collapsed": true
   },
   "outputs": [],
   "source": [
    "y = kmeans.labels_"
   ]
  },
  {
   "cell_type": "markdown",
   "metadata": {},
   "source": [
    "### KNearest Neighbors Classification"
   ]
  },
  {
   "cell_type": "code",
   "execution_count": 16,
   "metadata": {
    "ExecuteTime": {
     "end_time": "2018-06-04T16:31:28.511951Z",
     "start_time": "2018-06-04T16:31:28.494183Z"
    },
    "scrolled": true
   },
   "outputs": [
    {
     "data": {
      "text/plain": [
       "Index(['Donation Amount', 'Resource Quantity', 'Resource Unit Price',\n",
       "       'Donor City', 'Donor State', 'Donor Is Teacher', 'Donor Zip',\n",
       "       'Project Type', 'Project Subject Category Tree',\n",
       "       'Project Subject Subcategory Tree', 'Project Grade Level Category',\n",
       "       'Project Resource Category', 'Project Cost', 'Project Current Status',\n",
       "       'Teacher Prefix', 'School Metro Type', 'School Percentage Free Lunch',\n",
       "       'School State', 'School Zip', 'School City', 'School County',\n",
       "       'School District'],\n",
       "      dtype='object')"
      ]
     },
     "execution_count": 16,
     "metadata": {},
     "output_type": "execute_result"
    }
   ],
   "source": [
    "X.columns"
   ]
  },
  {
   "cell_type": "code",
   "execution_count": 17,
   "metadata": {
    "ExecuteTime": {
     "end_time": "2018-06-04T16:31:28.544424Z",
     "start_time": "2018-06-04T16:31:28.525939Z"
    }
   },
   "outputs": [],
   "source": [
    "X_clf = X[['Project Type', 'Project Subject Category Tree',\n",
    "       'Project Subject Subcategory Tree', 'Project Grade Level Category',\n",
    "       'Project Resource Category', 'Project Cost', 'Project Current Status',\n",
    "       'Teacher Prefix', 'School Metro Type', 'School Percentage Free Lunch',\n",
    "       'School State', 'School Zip', 'School City', 'School County',\n",
    "       'School District']]"
   ]
  },
  {
   "cell_type": "code",
   "execution_count": 18,
   "metadata": {
    "ExecuteTime": {
     "end_time": "2018-06-04T16:31:37.577176Z",
     "start_time": "2018-06-04T16:31:28.548296Z"
    },
    "scrolled": false
   },
   "outputs": [
    {
     "data": {
      "image/png": "[encoded data removed]",
      "text/plain": [
       "<Figure size 432x288 with 1 Axes>"
      ]
     },
     "metadata": {},
     "output_type": "display_data"
    }
   ],
   "source": [
    "from sklearn.model_selection import train_test_split\n",
    "X_train, X_test, y_train, y_test = train_test_split(X_clf, y, test_size = 0.25, \n",
    "                                                    random_state = 123)\n",
    "from sklearn.neighbors import KNeighborsClassifier\n",
    "for n in range(1,20,1):\n",
    "    clf = KNeighborsClassifier(n_neighbors = n).fit(X_train, y_train)\n",
    "    plt.plot(n,clf.score(X_test, y_test),'.')\n",
    "    plt.xlabel(\"n_neighbors\")\n",
    "    plt.ylabel(\"Test Accuracy\")\n"
   ]
  },
  {
   "cell_type": "markdown",
   "metadata": {},
   "source": [
    "**Observations:** It appears that `n_neighbors = y` yields the highest test accuracy at around 74.2%"
   ]
  },
  {
   "cell_type": "code",
   "execution_count": 19,
   "metadata": {
    "ExecuteTime": {
     "end_time": "2018-06-04T16:31:45.313844Z",
     "start_time": "2018-06-04T16:31:37.583161Z"
    },
    "scrolled": false
   },
   "outputs": [
    {
     "name": "stdout",
     "output_type": "stream",
     "text": [
      "0.74256\n"
     ]
    },
    {
     "data": {
      "image/png": "[encoded data removed]",
      "text/plain": [
       "<Figure size 432x288 with 1 Axes>"
      ]
     },
     "metadata": {},
     "output_type": "display_data"
    }
   ],
   "source": [
    "X_clf_ = X[['Project Type', 'Project Subject Category Tree',\n",
    "            'Project Grade Level Category',\n",
    "       'Project Resource Category', 'Project Cost', 'Project Current Status',\n",
    "        'School Metro Type', 'School Percentage Free Lunch',\n",
    "       'School State', 'School Zip', 'School City', 'School County',\n",
    "       'School District']]\n",
    "\n",
    "from sklearn.model_selection import train_test_split\n",
    "X_train, X_test, y_train, y_test = train_test_split(X_clf_, y, test_size = 0.25, \n",
    "                                                    random_state = 123)\n",
    "from sklearn.neighbors import KNeighborsClassifier\n",
    "for n in range(1,20,1):\n",
    "    clf = KNeighborsClassifier(n_neighbors = n).fit(X_train, y_train)\n",
    "    plt.plot(n,clf.score(X_test, y_test),'.')\n",
    "    plt.xlabel(\"n_neighbors\")\n",
    "    plt.ylabel(\"Test Accuracy\")\n",
    "    \n",
    "print(KNeighborsClassifier(n_neighbors = 7).fit(X_train, y_train).score(X_test, y_test))"
   ]
  },
  {
   "cell_type": "code",
   "execution_count": 20,
   "metadata": {
    "ExecuteTime": {
     "end_time": "2018-06-04T16:31:45.489631Z",
     "start_time": "2018-06-04T16:31:45.317774Z"
    }
   },
   "outputs": [
    {
     "data": {
      "text/plain": [
       "0.75696"
      ]
     },
     "execution_count": 20,
     "metadata": {},
     "output_type": "execute_result"
    }
   ],
   "source": [
    "from sklearn.tree import DecisionTreeClassifier\n",
    "from sklearn.model_selection import train_test_split\n",
    "X_train, X_test, y_train, y_test = train_test_split(X_clf, y, test_size = 0.25, \n",
    "                                                    random_state = 123)\n",
    "dtc = DecisionTreeClassifier().fit(X_train, y_train)\n",
    "dtc.score(X_test,y_test)"
   ]
  },
  {
   "cell_type": "markdown",
   "metadata": {},
   "source": [
    "# Clustering Projects"
   ]
  },
  {
   "cell_type": "markdown",
   "metadata": {
    "ExecuteTime": {
     "end_time": "2018-06-04T14:22:04.814649Z",
     "start_time": "2018-06-04T14:22:04.795653Z"
    }
   },
   "source": [
    "#### Creating a new `df_proj` dataframe"
   ]
  },
  {
   "cell_type": "code",
   "execution_count": 21,
   "metadata": {
    "ExecuteTime": {
     "end_time": "2018-06-04T16:31:45.541920Z",
     "start_time": "2018-06-04T16:31:45.492682Z"
    }
   },
   "outputs": [],
   "source": [
    "df_proj = pd.DataFrame()\n",
    "df_proj = df.drop(labels=date_feat,axis = 1)"
   ]
  },
  {
   "cell_type": "markdown",
   "metadata": {},
   "source": [
    "#### Selecting features for projects"
   ]
  },
  {
   "cell_type": "code",
   "execution_count": 22,
   "metadata": {
    "ExecuteTime": {
     "end_time": "2018-06-04T16:31:46.096455Z",
     "start_time": "2018-06-04T16:31:45.545749Z"
    }
   },
   "outputs": [],
   "source": [
    "for x in df_proj.columns.tolist():\n",
    "    if x in donor_feat:\n",
    "        df_proj.drop(labels=x, axis=1, inplace=True)\n",
    "    elif x in not_useful:\n",
    "        df_proj.drop(labels=x, axis=1, inplace=True)"
   ]
  },
  {
   "cell_type": "markdown",
   "metadata": {},
   "source": [
    "#### Populating the list of categorical variables for the new dataframe"
   ]
  },
  {
   "cell_type": "code",
   "execution_count": 23,
   "metadata": {
    "ExecuteTime": {
     "end_time": "2018-06-04T16:31:46.108401Z",
     "start_time": "2018-06-04T16:31:46.100576Z"
    },
    "collapsed": true
   },
   "outputs": [],
   "source": [
    "cat_feat_proj = []\n",
    "for x in df_proj.columns.tolist(): \n",
    "    if x in cat_feat:\n",
    "        cat_feat_proj.append(x)"
   ]
  },
  {
   "cell_type": "markdown",
   "metadata": {},
   "source": [
    "#### Dropping NaN values"
   ]
  },
  {
   "cell_type": "code",
   "execution_count": 24,
   "metadata": {
    "ExecuteTime": {
     "end_time": "2018-06-04T16:31:46.239330Z",
     "start_time": "2018-06-04T16:31:46.112734Z"
    }
   },
   "outputs": [],
   "source": [
    "df_proj.dropna(axis=0, inplace=True)\n",
    "#df_proj[pd.isnull(df_new).any(axis=1)]"
   ]
  },
  {
   "cell_type": "code",
   "execution_count": 25,
   "metadata": {
    "ExecuteTime": {
     "end_time": "2018-06-04T16:31:46.261042Z",
     "start_time": "2018-06-04T16:31:46.244922Z"
    },
    "scrolled": true
   },
   "outputs": [
    {
     "data": {
      "text/plain": [
       "Index(['Resource Quantity', 'Resource Unit Price', 'Project Type',\n",
       "       'Project Subject Category Tree', 'Project Subject Subcategory Tree',\n",
       "       'Project Grade Level Category', 'Project Resource Category',\n",
       "       'Project Cost', 'Project Current Status', 'Teacher Prefix',\n",
       "       'School Metro Type', 'School Percentage Free Lunch', 'School State',\n",
       "       'School Zip', 'School City', 'School County', 'School District'],\n",
       "      dtype='object')"
      ]
     },
     "execution_count": 25,
     "metadata": {},
     "output_type": "execute_result"
    }
   ],
   "source": [
    "df_proj.columns"
   ]
  },
  {
   "cell_type": "markdown",
   "metadata": {},
   "source": [
    "#### Encoding numerical labels into categorical variables"
   ]
  },
  {
   "cell_type": "code",
   "execution_count": 26,
   "metadata": {
    "ExecuteTime": {
     "end_time": "2018-06-04T16:31:46.338910Z",
     "start_time": "2018-06-04T16:31:46.266912Z"
    }
   },
   "outputs": [],
   "source": [
    "checker1_proj = df_proj[df_proj['School State']=='Alaska'].index.tolist()\n",
    "checker2_proj = df_proj[df_proj['School Metro Type']=='town'].index.tolist()"
   ]
  },
  {
   "cell_type": "code",
   "execution_count": 27,
   "metadata": {
    "ExecuteTime": {
     "end_time": "2018-06-04T16:31:48.056775Z",
     "start_time": "2018-06-04T16:31:46.343155Z"
    }
   },
   "outputs": [],
   "source": [
    "labels_proj = {}\n",
    "for cat_feat_proj in cat_feat_proj:\n",
    "    le = LabelEncoder()\n",
    "    le.fit(df_proj[cat_feat_proj].value_counts().index.values)\n",
    "    \n",
    "    if df_proj[cat_feat_proj].dtype == 'float64' or\\\n",
    "    df_proj[cat_feat_proj].dtype == 'int':\n",
    "        df_proj[cat_feat_proj] = le.transform(df_proj[cat_feat_proj])\n",
    "    \n",
    "    else:\n",
    "        df_proj[cat_feat_proj] = le.transform(df_proj[cat_feat_proj].astype(str))\n",
    "    \n",
    "    labels_proj[cat_feat_proj] = list(le.classes_)"
   ]
  },
  {
   "cell_type": "markdown",
   "metadata": {},
   "source": [
    "#### Checking whether label encoding is done properly"
   ]
  },
  {
   "cell_type": "code",
   "execution_count": 28,
   "metadata": {
    "ExecuteTime": {
     "end_time": "2018-06-04T16:31:48.324776Z",
     "start_time": "2018-06-04T16:31:48.060038Z"
    }
   },
   "outputs": [
    {
     "name": "stdout",
     "output_type": "stream",
     "text": [
      "Label Encoding Success\n"
     ]
    }
   ],
   "source": [
    "check_proj = 0 \n",
    "\n",
    "for i in checker1_proj:\n",
    "    if df_proj['School State'].loc[i] != 1: check += 1\n",
    "\n",
    "for i in checker2_proj:\n",
    "    if df_proj['School Metro Type'].loc[i] != 2: check += 1\n",
    "        \n",
    "if check_proj == 0: print('Label Encoding Success') \n",
    "else: print('Label Encoding Error')"
   ]
  },
  {
   "cell_type": "markdown",
   "metadata": {},
   "source": [
    "#### Randomly sampling an arbitrary number of datapoints for initial analysis"
   ]
  },
  {
   "cell_type": "code",
   "execution_count": 29,
   "metadata": {
    "ExecuteTime": {
     "end_time": "2018-06-04T16:31:48.378887Z",
     "start_time": "2018-06-04T16:31:48.329082Z"
    },
    "collapsed": true
   },
   "outputs": [],
   "source": [
    "n_rows = 50000\n",
    "df_proj_ = df_proj.sample(n = n_rows, random_state = 123, axis = 0)\n",
    "X_proj = df_proj_"
   ]
  },
  {
   "cell_type": "markdown",
   "metadata": {},
   "source": [
    "### KMeans Clustering: Projects Data"
   ]
  },
  {
   "cell_type": "code",
   "execution_count": 30,
   "metadata": {
    "ExecuteTime": {
     "end_time": "2018-06-04T16:31:49.452359Z",
     "start_time": "2018-06-04T16:31:48.382883Z"
    },
    "scrolled": true
   },
   "outputs": [
    {
     "data": {
      "image/png": "[encoded data removed]",
      "text/plain": [
       "<Figure size 432x288 with 1 Axes>"
      ]
     },
     "metadata": {},
     "output_type": "display_data"
    }
   ],
   "source": [
    "from sklearn.cluster import KMeans\n",
    "kmeans_proj = KMeans(n_clusters = 4).fit(X_proj)\n",
    "for i in range(len(kmeans_proj.cluster_centers_)):\n",
    "    plt.plot(kmeans_proj.cluster_centers_[i][0],kmeans_proj.cluster_centers_[i][1],'x', markersize=12, label=i);\n",
    "    plt.xticks([], [])\n",
    "    plt.yticks([], [])\n",
    "    plt.legend(loc=4)"
   ]
  },
  {
   "cell_type": "markdown",
   "metadata": {},
   "source": [
    "**Observations:** `n_clusters = 4` generates the most ideal separation among clusters from `n_clusters 1-10`"
   ]
  },
  {
   "cell_type": "markdown",
   "metadata": {},
   "source": [
    "#### Storing Project ID in corresponding clusters"
   ]
  },
  {
   "cell_type": "code",
   "execution_count": 31,
   "metadata": {
    "ExecuteTime": {
     "end_time": "2018-06-04T16:31:49.534020Z",
     "start_time": "2018-06-04T16:31:49.455569Z"
    },
    "collapsed": true
   },
   "outputs": [],
   "source": [
    "cluster0_proj = df.iloc[X.iloc[kmeans_proj.labels_==0,:].index]['Project ID']\n",
    "cluster1_proj = df.iloc[X.iloc[kmeans_proj.labels_==1,:].index]['Project ID']\n",
    "cluster2_proj = df.iloc[X.iloc[kmeans_proj.labels_==2,:].index]['Project ID']\n",
    "cluster3_proj = df.iloc[X.iloc[kmeans_proj.labels_==3,:].index]['Project ID']"
   ]
  },
  {
   "cell_type": "code",
   "execution_count": 32,
   "metadata": {
    "ExecuteTime": {
     "end_time": "2018-06-04T16:31:49.547671Z",
     "start_time": "2018-06-04T16:31:49.537912Z"
    }
   },
   "outputs": [
    {
     "data": {
      "text/plain": [
       "California        58\n",
       "North Carolina    34\n",
       "New York          33\n",
       "Texas             27\n",
       "Florida           20\n",
       "Illinois          17\n",
       "Indiana           17\n",
       "Arizona           16\n",
       "Alabama           16\n",
       "Virginia          15\n",
       "Michigan          15\n",
       "New Jersey        13\n",
       "Colorado          12\n",
       "South Carolina    11\n",
       "Minnesota         11\n",
       "Wisconsin         10\n",
       "Washington        10\n",
       "Ohio               9\n",
       "Pennsylvania       9\n",
       "Oklahoma           8\n",
       "Georgia            8\n",
       "Massachusetts      8\n",
       "Missouri           7\n",
       "Maryland           7\n",
       "Idaho              6\n",
       "Oregon             5\n",
       "Mississippi        5\n",
       "Connecticut        5\n",
       "Nevada             4\n",
       "Tennessee          4\n",
       "South Dakota       4\n",
       "Alaska             3\n",
       "Kansas             2\n",
       "Louisiana          2\n",
       "Utah               2\n",
       "Maine              2\n",
       "Iowa               2\n",
       "West Virginia      2\n",
       "Hawaii             2\n",
       "Arkansas           1\n",
       "New Mexico         1\n",
       "New Hampshire      1\n",
       "Name: School State, dtype: int64"
      ]
     },
     "execution_count": 32,
     "metadata": {},
     "output_type": "execute_result"
    }
   ],
   "source": [
    "df['School State'].iloc[cluster0_proj.index].value_counts()"
   ]
  },
  {
   "cell_type": "code",
   "execution_count": 33,
   "metadata": {
    "ExecuteTime": {
     "end_time": "2018-06-04T16:31:49.559412Z",
     "start_time": "2018-06-04T16:31:49.554624Z"
    },
    "collapsed": true
   },
   "outputs": [],
   "source": [
    "y_proj = kmeans_proj.labels_"
   ]
  },
  {
   "cell_type": "markdown",
   "metadata": {},
   "source": [
    "# Clustering Donations"
   ]
  },
  {
   "cell_type": "markdown",
   "metadata": {},
   "source": [
    "#### Creating a new `df_don` dataframe"
   ]
  },
  {
   "cell_type": "code",
   "execution_count": 34,
   "metadata": {
    "ExecuteTime": {
     "end_time": "2018-06-04T16:31:49.620182Z",
     "start_time": "2018-06-04T16:31:49.565143Z"
    },
    "collapsed": true
   },
   "outputs": [],
   "source": [
    "df_don = pd.DataFrame()\n",
    "df_don = df.drop(labels=date_feat,axis = 1)"
   ]
  },
  {
   "cell_type": "markdown",
   "metadata": {},
   "source": [
    "#### Selecting features for donations"
   ]
  },
  {
   "cell_type": "code",
   "execution_count": 35,
   "metadata": {
    "ExecuteTime": {
     "end_time": "2018-06-04T16:31:50.244928Z",
     "start_time": "2018-06-04T16:31:49.623885Z"
    },
    "collapsed": true
   },
   "outputs": [],
   "source": [
    "for x in df_don.columns.tolist():\n",
    "    if x in project_feat:\n",
    "        df_don.drop(labels=x, axis=1, inplace=True)\n",
    "    elif x in not_useful:\n",
    "        df_don.drop(labels=x, axis=1, inplace=True)"
   ]
  },
  {
   "cell_type": "markdown",
   "metadata": {},
   "source": [
    "#### Populating the list of categorical variables for the new dataframe"
   ]
  },
  {
   "cell_type": "code",
   "execution_count": 36,
   "metadata": {
    "ExecuteTime": {
     "end_time": "2018-06-04T16:31:50.318526Z",
     "start_time": "2018-06-04T16:31:50.249060Z"
    },
    "collapsed": true
   },
   "outputs": [],
   "source": [
    "cat_feat_don = []\n",
    "for x in df_don.columns.tolist(): \n",
    "    if x in cat_feat:\n",
    "        cat_feat_don.append(x)"
   ]
  },
  {
   "cell_type": "markdown",
   "metadata": {},
   "source": [
    "#### Dropping NaN values"
   ]
  },
  {
   "cell_type": "code",
   "execution_count": 37,
   "metadata": {
    "ExecuteTime": {
     "end_time": "2018-06-04T16:31:50.376291Z",
     "start_time": "2018-06-04T16:31:50.324310Z"
    },
    "collapsed": true
   },
   "outputs": [],
   "source": [
    "df_don.dropna(axis=0, inplace=True)\n",
    "#df_proj[pd.isnull(df_new).any(axis=1)]"
   ]
  },
  {
   "cell_type": "code",
   "execution_count": 38,
   "metadata": {
    "ExecuteTime": {
     "end_time": "2018-06-04T16:31:50.390792Z",
     "start_time": "2018-06-04T16:31:50.380190Z"
    }
   },
   "outputs": [
    {
     "data": {
      "text/plain": [
       "Index(['Donation Amount', 'Donor City', 'Donor State', 'Donor Is Teacher',\n",
       "       'Donor Zip'],\n",
       "      dtype='object')"
      ]
     },
     "execution_count": 38,
     "metadata": {},
     "output_type": "execute_result"
    }
   ],
   "source": [
    "df_don.columns"
   ]
  },
  {
   "cell_type": "markdown",
   "metadata": {},
   "source": [
    "#### Encoding numerical labels into categorical variables"
   ]
  },
  {
   "cell_type": "code",
   "execution_count": 39,
   "metadata": {
    "ExecuteTime": {
     "end_time": "2018-06-04T16:31:50.429911Z",
     "start_time": "2018-06-04T16:31:50.395745Z"
    }
   },
   "outputs": [],
   "source": [
    "checker1_don = df_don[df_don['Donor State']=='Alaska'].index.tolist()\n",
    "checker2_don = df_don[df_don['Donor City']=='Aberdeen'].index.tolist()"
   ]
  },
  {
   "cell_type": "code",
   "execution_count": 40,
   "metadata": {
    "ExecuteTime": {
     "end_time": "2018-06-04T16:31:50.864435Z",
     "start_time": "2018-06-04T16:31:50.433285Z"
    },
    "collapsed": true
   },
   "outputs": [],
   "source": [
    "labels_don = {}\n",
    "for cat_feat_don in cat_feat_don:\n",
    "    le = LabelEncoder()\n",
    "    le.fit(df_don[cat_feat_don].value_counts().index.values)\n",
    "    \n",
    "    if df_don[cat_feat_don].dtype == 'float64' or\\\n",
    "    df_don[cat_feat_don].dtype == 'int':\n",
    "        df_don[cat_feat_don] = le.transform(df_don[cat_feat_don])\n",
    "    \n",
    "    else:\n",
    "        df_don[cat_feat_don] = le.transform(df_don[cat_feat_don].astype(str))\n",
    "    \n",
    "    labels_don[cat_feat_don] = list(le.classes_)"
   ]
  },
  {
   "cell_type": "markdown",
   "metadata": {},
   "source": [
    "#### Checking whether label encoding is done properly"
   ]
  },
  {
   "cell_type": "code",
   "execution_count": 41,
   "metadata": {
    "ExecuteTime": {
     "end_time": "2018-06-04T16:31:50.898341Z",
     "start_time": "2018-06-04T16:31:50.868004Z"
    }
   },
   "outputs": [
    {
     "name": "stdout",
     "output_type": "stream",
     "text": [
      "Label Encoding Success\n"
     ]
    }
   ],
   "source": [
    "check_don = 0 \n",
    "\n",
    "for i in checker1_don:\n",
    "    if df_don['Donor State'].loc[i] != 1: check += 1\n",
    "\n",
    "for i in checker2_don:\n",
    "    if df_don['Donor City'].loc[i] != 1: check += 1\n",
    "        \n",
    "if check_don == 0: print('Label Encoding Success') \n",
    "else: print('Label Encoding Error')"
   ]
  },
  {
   "cell_type": "markdown",
   "metadata": {},
   "source": [
    "#### Randomly sampling an arbitrary number of datapoints for initial analysis"
   ]
  },
  {
   "cell_type": "code",
   "execution_count": 42,
   "metadata": {
    "ExecuteTime": {
     "end_time": "2018-06-04T16:31:50.926009Z",
     "start_time": "2018-06-04T16:31:50.904088Z"
    },
    "collapsed": true
   },
   "outputs": [],
   "source": [
    "n_rows = 50000\n",
    "df_don_ = df_don.sample(n = n_rows, random_state = 123, axis = 0)\n",
    "X_don = df_don_"
   ]
  },
  {
   "cell_type": "markdown",
   "metadata": {},
   "source": [
    "### KMeans Clustering: Donations Data"
   ]
  },
  {
   "cell_type": "code",
   "execution_count": 43,
   "metadata": {
    "ExecuteTime": {
     "end_time": "2018-06-04T16:31:52.286204Z",
     "start_time": "2018-06-04T16:31:50.931768Z"
    },
    "scrolled": true
   },
   "outputs": [
    {
     "data": {
      "image/png": "[encoded data removed]",
      "text/plain": [
       "<Figure size 432x288 with 1 Axes>"
      ]
     },
     "metadata": {},
     "output_type": "display_data"
    }
   ],
   "source": [
    "from sklearn.cluster import KMeans\n",
    "kmeans_don = KMeans(n_clusters =6).fit(X_don)\n",
    "for i in range(len(kmeans_don.cluster_centers_)):\n",
    "    plt.plot(kmeans_don.cluster_centers_[i][0],kmeans_don.cluster_centers_[i][1],'x', markersize=12, label=i);\n",
    "    plt.xticks([], [])\n",
    "    plt.yticks([], [])\n",
    "    plt.legend(loc=4)"
   ]
  },
  {
   "cell_type": "markdown",
   "metadata": {},
   "source": [
    "**Observations:** `n_clusters = 6` generates the most ideal separation among clusters from `n_clusters 1-10`"
   ]
  },
  {
   "cell_type": "markdown",
   "metadata": {},
   "source": [
    "#### Storing Donor ID in corresponding clusters"
   ]
  },
  {
   "cell_type": "code",
   "execution_count": 44,
   "metadata": {
    "ExecuteTime": {
     "end_time": "2018-06-04T16:31:52.640149Z",
     "start_time": "2018-06-04T16:31:52.327949Z"
    },
    "collapsed": true
   },
   "outputs": [],
   "source": [
    "cluster0_don = df.iloc[X.iloc[kmeans_don.labels_==0,:].index]['Donor ID']\n",
    "cluster1_don = df.iloc[X.iloc[kmeans_don.labels_==1,:].index]['Donor ID']\n",
    "cluster2_don = df.iloc[X.iloc[kmeans_don.labels_==2,:].index]['Donor ID']\n",
    "cluster3_don = df.iloc[X.iloc[kmeans_don.labels_==3,:].index]['Donor ID']\n",
    "cluster4_don = df.iloc[X.iloc[kmeans_don.labels_==4,:].index]['Donor ID']\n",
    "cluster5_don = df.iloc[X.iloc[kmeans_don.labels_==5,:].index]['Donor ID']\n"
   ]
  },
  {
   "cell_type": "code",
   "execution_count": 45,
   "metadata": {
    "ExecuteTime": {
     "end_time": "2018-06-04T16:31:52.692545Z",
     "start_time": "2018-06-04T16:31:52.645326Z"
    }
   },
   "outputs": [
    {
     "data": {
      "text/plain": [
       "California        1193\n",
       "New York          1164\n",
       "Texas              478\n",
       "North Carolina     476\n",
       "Arizona            448\n",
       "Indiana            423\n",
       "Illinois           397\n",
       "Florida            358\n",
       "New Jersey         327\n",
       "Alabama            322\n",
       "Pennsylvania       309\n",
       "Massachusetts      304\n",
       "Minnesota          293\n",
       "Virginia           242\n",
       "Michigan           231\n",
       "Maryland           197\n",
       "Georgia            192\n",
       "Wisconsin          180\n",
       "Colorado           172\n",
       "Washington         164\n",
       "Missouri           163\n",
       "South Carolina     162\n",
       "Ohio               148\n",
       "Oregon             146\n",
       "Idaho              132\n",
       "Connecticut        127\n",
       "Oklahoma           123\n",
       "Tennessee          100\n",
       "Utah                97\n",
       "Nevada              93\n",
       "Maine               85\n",
       "South Dakota        78\n",
       "Mississippi         70\n",
       "Louisiana           66\n",
       "Kansas              65\n",
       "Montana             38\n",
       "Kentucky            36\n",
       "New Mexico          36\n",
       "Arkansas            28\n",
       "Alaska              26\n",
       "Iowa                20\n",
       "West Virginia       15\n",
       "Delaware            13\n",
       "Hawaii              13\n",
       "New Hampshire       11\n",
       "North Dakota        10\n",
       "Vermont              6\n",
       "Wyoming              4\n",
       "Name: School State, dtype: int64"
      ]
     },
     "execution_count": 45,
     "metadata": {},
     "output_type": "execute_result"
    }
   ],
   "source": [
    "df['School State'].iloc[cluster0_don.index].value_counts()"
   ]
  },
  {
   "cell_type": "code",
   "execution_count": 46,
   "metadata": {
    "ExecuteTime": {
     "end_time": "2018-06-04T16:31:52.750380Z",
     "start_time": "2018-06-04T16:31:52.727673Z"
    },
    "collapsed": true
   },
   "outputs": [],
   "source": [
    "y_don = kmeans_proj.labels_"
   ]
  }
 ],
 "metadata": {
  "kernelspec": {
   "display_name": "Python 3",
   "language": "python",
   "name": "python3"
  },
  "language_info": {
   "codemirror_mode": {
    "name": "ipython",
    "version": 3
   },
   "file_extension": ".py",
   "mimetype": "text/x-python",
   "name": "python",
   "nbconvert_exporter": "python",
   "pygments_lexer": "ipython3",
   "version": "3.6.3"
  }
 },
 "nbformat": 4,
 "nbformat_minor": 2
}
