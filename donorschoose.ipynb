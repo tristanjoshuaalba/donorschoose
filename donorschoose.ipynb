{
 "cells": [
  {
   "cell_type": "markdown",
   "metadata": {},
   "source": [
    "# Helping Donors Choose Donorschoose.org\n",
    "<p style=\"font-size:18px\"> A Kernel Submission to the Data Science for Good Kaggle Competition with Donorschoose.org </p>\n",
    "<img src=\"donorschoose-image.png\" alt=\"DonorsChoose.org\" width=\"500\" height=\"200\">"
   ]
  },
  {
   "cell_type": "markdown",
   "metadata": {},
   "source": [
    "## About DonorsChoose.org"
   ]
  },
  {
   "cell_type": "markdown",
   "metadata": {},
   "source": []
  },
  {
   "cell_type": "markdown",
   "metadata": {},
   "source": [
    "## About the Data"
   ]
  },
  {
   "cell_type": "markdown",
   "metadata": {},
   "source": []
  },
  {
   "cell_type": "markdown",
   "metadata": {},
   "source": [
    "## Questions we would like to ask"
   ]
  },
  {
   "cell_type": "markdown",
   "metadata": {},
   "source": []
  },
  {
   "cell_type": "markdown",
   "metadata": {},
   "source": [
    "## Results of Analysis"
   ]
  },
  {
   "cell_type": "markdown",
   "metadata": {},
   "source": [
    "### Initialization & Data Loading"
   ]
  },
  {
   "cell_type": "code",
   "execution_count": 361,
   "metadata": {
    "ExecuteTime": {
     "end_time": "2018-06-04T11:52:34.004190Z",
     "start_time": "2018-06-04T11:52:33.972813Z"
    }
   },
   "outputs": [],
   "source": [
    "import pandas as pd\n",
    "import numpy as np\n",
    "import matplotlib.pyplot as plt\n",
    "%matplotlib inline\n",
    "from collections import OrderedDict\n",
    "from sklearn.preprocessing import LabelEncoder"
   ]
  },
  {
   "cell_type": "code",
   "execution_count": 333,
   "metadata": {
    "ExecuteTime": {
     "end_time": "2018-06-04T11:43:24.883350Z",
     "start_time": "2018-06-04T11:43:22.054600Z"
    },
    "collapsed": true
   },
   "outputs": [],
   "source": [
    "filepath = '/Users/tristan.j.alba/Google Drive/ds_projects/datascience'\n",
    "df = pd.read_csv(filepath+'consolidated_df_sampled.csv').iloc[:,1:]"
   ]
  },
  {
   "cell_type": "markdown",
   "metadata": {},
   "source": [
    "### Data Wrangling: Label Encoding"
   ]
  },
  {
   "cell_type": "code",
   "execution_count": 334,
   "metadata": {
    "ExecuteTime": {
     "end_time": "2018-06-04T11:43:35.290721Z",
     "start_time": "2018-06-04T11:43:35.282512Z"
    },
    "scrolled": false
   },
   "outputs": [
    {
     "data": {
      "text/plain": [
       "Index(['Project ID', 'Donation ID', 'Donor ID',\n",
       "       'Donation Included Optional Donation', 'Donation Amount',\n",
       "       'Donor Cart Sequence', 'Donation Received Date', 'Resource Item Name',\n",
       "       'Resource Quantity', 'Resource Unit Price', 'Resource Vendor Name',\n",
       "       'Donor City', 'Donor State', 'Donor Is Teacher', 'Donor Zip',\n",
       "       'School ID', 'Teacher ID', 'Teacher Project Posted Sequence',\n",
       "       'Project Type', 'Project Title', 'Project Essay',\n",
       "       'Project Short Description', 'Project Need Statement',\n",
       "       'Project Subject Category Tree', 'Project Subject Subcategory Tree',\n",
       "       'Project Grade Level Category', 'Project Resource Category',\n",
       "       'Project Cost', 'Project Posted Date', 'Project Expiration Date',\n",
       "       'Project Current Status', 'Project Fully Funded Date', 'Teacher Prefix',\n",
       "       'Teacher First Project Posted Date', 'School Name', 'School Metro Type',\n",
       "       'School Percentage Free Lunch', 'School State', 'School Zip',\n",
       "       'School City', 'School County', 'School District'],\n",
       "      dtype='object')"
      ]
     },
     "execution_count": 334,
     "metadata": {},
     "output_type": "execute_result"
    }
   ],
   "source": [
    "features = df.columns\n",
    "features"
   ]
  },
  {
   "cell_type": "markdown",
   "metadata": {},
   "source": [
    "#### Identifying useful features and categorical variables"
   ]
  },
  {
   "cell_type": "code",
   "execution_count": 335,
   "metadata": {
    "ExecuteTime": {
     "end_time": "2018-06-04T11:43:38.288380Z",
     "start_time": "2018-06-04T11:43:38.250257Z"
    },
    "collapsed": true
   },
   "outputs": [],
   "source": [
    "not_useful = ['Project ID', 'Donation ID','Donor ID','Donation Included Optional Donation',\n",
    "          'Donor Cart Sequence','Resource Vendor Name','Resource Item Name', \n",
    "              'Teacher Project Posted Sequence','School ID', 'Teacher ID',\n",
    "          'Project Title', 'Project Essay','Project Short Description',\n",
    "          'Project Need Statement','School Name']\n",
    "\n",
    "date_feat = ['Donation Received Date','Project Posted Date', 'Project Expiration Date',\n",
    "        'Project Fully Funded Date','Teacher First Project Posted Date']\n",
    "\n",
    "school_feat = ['Donation ID', 'Donor ID',\n",
    "       'Donation Included Optional Donation', 'Donation Amount',\n",
    "       'Donor Cart Sequence', 'Donation Received Date', 'Resource Item Name',\n",
    "       'Resource Quantity', 'Resource Unit Price', 'Resource Vendor Name',\n",
    "       'Donor City', 'Donor State', 'Donor Is Teacher', 'Donor Zip']\n",
    "\n",
    "project_feat = ['Project Type', 'Project Title', 'Project Essay',\n",
    "       'Project Short Description', 'Project Need Statement',\n",
    "       'Project Subject Category Tree', 'Project Subject Subcategory Tree',\n",
    "       'Project Grade Level Category', 'Project Resource Category',\n",
    "       'Project Cost', 'Project Posted Date', 'Project Expiration Date',\n",
    "       'Project Current Status', 'Project Fully Funded Date', 'Teacher Prefix',\n",
    "       'Teacher First Project Posted Date', 'School Name', 'School Metro Type',\n",
    "       'School Percentage Free Lunch', 'School State', 'School Zip',\n",
    "       'School City', 'School County', 'School District']\n",
    "\n",
    "cat_feat = ['Donor City', 'Donor State', 'Donor Is Teacher', 'Donor Zip',\n",
    "            'Project Type','Project Subject Category Tree', \n",
    "            'Project Subject Subcategory Tree',\n",
    "            'Project Grade Level Category', 'Project Resource Category',\n",
    "            'Project Current Status','Teacher Prefix','School Metro Type',\n",
    "            'School State', 'School Zip','School City','School County', 'School District']\n",
    "            \n",
    "            "
   ]
  },
  {
   "cell_type": "markdown",
   "metadata": {},
   "source": [
    "#### Dropping not so useful features"
   ]
  },
  {
   "cell_type": "code",
   "execution_count": 336,
   "metadata": {
    "ExecuteTime": {
     "end_time": "2018-06-04T11:43:48.358408Z",
     "start_time": "2018-06-04T11:43:48.325873Z"
    },
    "scrolled": true
   },
   "outputs": [],
   "source": [
    "df_new = df.drop(labels=not_useful,axis = 1)"
   ]
  },
  {
   "cell_type": "markdown",
   "metadata": {},
   "source": [
    "#### Dropping datetime features (for now)"
   ]
  },
  {
   "cell_type": "code",
   "execution_count": 337,
   "metadata": {
    "ExecuteTime": {
     "end_time": "2018-06-04T11:43:52.046954Z",
     "start_time": "2018-06-04T11:43:52.014758Z"
    },
    "scrolled": false
   },
   "outputs": [],
   "source": [
    "df_new = df_new.drop(labels=date_feat,axis = 1)"
   ]
  },
  {
   "cell_type": "code",
   "execution_count": 338,
   "metadata": {
    "ExecuteTime": {
     "end_time": "2018-06-04T11:43:54.456202Z",
     "start_time": "2018-06-04T11:43:54.446984Z"
    },
    "scrolled": true
   },
   "outputs": [],
   "source": [
    "cat_feat_new = []\n",
    "for x in df_new.columns.tolist(): \n",
    "    if x in cat_feat:\n",
    "        cat_feat_new.append(x)"
   ]
  },
  {
   "cell_type": "markdown",
   "metadata": {},
   "source": [
    "#### Dropping NaN values"
   ]
  },
  {
   "cell_type": "code",
   "execution_count": 339,
   "metadata": {
    "ExecuteTime": {
     "end_time": "2018-06-04T11:43:58.578086Z",
     "start_time": "2018-06-04T11:43:58.429334Z"
    }
   },
   "outputs": [],
   "source": [
    "df_new.dropna(axis=0, inplace=True)\n",
    "#df_new[pd.isnull(df_new).any(axis=1)]"
   ]
  },
  {
   "cell_type": "markdown",
   "metadata": {},
   "source": [
    "#### Encoding numerical labels into categorical variables"
   ]
  },
  {
   "cell_type": "code",
   "execution_count": 340,
   "metadata": {
    "ExecuteTime": {
     "end_time": "2018-06-04T11:44:01.885560Z",
     "start_time": "2018-06-04T11:44:01.855347Z"
    }
   },
   "outputs": [],
   "source": [
    "checker1 = df_new[df_new['School State']=='Alaska'].index.tolist()\n",
    "checker2 = df_new[df_new['School Metro Type']=='town'].index.tolist()"
   ]
  },
  {
   "cell_type": "code",
   "execution_count": 341,
   "metadata": {
    "ExecuteTime": {
     "end_time": "2018-06-04T11:44:06.828925Z",
     "start_time": "2018-06-04T11:44:05.402037Z"
    },
    "scrolled": true
   },
   "outputs": [],
   "source": [
    "labels = {}\n",
    "for cat_feat_new in cat_feat_new:\n",
    "    le = LabelEncoder()\n",
    "    le.fit(df_new[cat_feat_new].value_counts().index.values)\n",
    "    \n",
    "    if df_new[cat_feat_new].dtype == 'float64' or\\\n",
    "    df_new[cat_feat_new].dtype == 'int':\n",
    "        df_new[cat_feat_new] = le.transform(df_new[cat_feat_new])\n",
    "    \n",
    "    else:\n",
    "        df_new[cat_feat_new] = le.transform(df_new[cat_feat_new].astype(str))\n",
    "    \n",
    "    labels[cat_feat_new] = list(le.classes_)"
   ]
  },
  {
   "cell_type": "markdown",
   "metadata": {},
   "source": [
    "#### Checking whether label encoding is done properly"
   ]
  },
  {
   "cell_type": "code",
   "execution_count": 342,
   "metadata": {
    "ExecuteTime": {
     "end_time": "2018-06-04T11:44:09.878157Z",
     "start_time": "2018-06-04T11:44:09.702961Z"
    },
    "scrolled": true
   },
   "outputs": [
    {
     "name": "stdout",
     "output_type": "stream",
     "text": [
      "Label Encoding Success\n"
     ]
    }
   ],
   "source": [
    "check = 0 \n",
    "\n",
    "for i in checker1:\n",
    "    if df_new['School State'].loc[i] != 1: check += 1\n",
    "\n",
    "for i in checker2:\n",
    "    if df_new['School Metro Type'].loc[i] != 2: check += 1\n",
    "        \n",
    "if check==0: print('Label Encoding Success') \n",
    "else: print('Label Encoding Error')"
   ]
  },
  {
   "cell_type": "markdown",
   "metadata": {},
   "source": [
    "#### Randomly sampling an arbitrary number of datapoints for initial analysis"
   ]
  },
  {
   "cell_type": "code",
   "execution_count": 348,
   "metadata": {
    "ExecuteTime": {
     "end_time": "2018-06-04T11:47:50.858885Z",
     "start_time": "2018-06-04T11:47:50.803419Z"
    }
   },
   "outputs": [],
   "source": [
    "n_rows = 10000\n",
    "df_ = df_new.sample(n = n_rows, random_state = 123, axis = 0)\n",
    "X = df_"
   ]
  },
  {
   "cell_type": "markdown",
   "metadata": {
    "ExecuteTime": {
     "end_time": "2018-06-04T11:50:15.298665Z",
     "start_time": "2018-06-04T11:50:15.292827Z"
    }
   },
   "source": [
    "### KMeans Clustering"
   ]
  },
  {
   "cell_type": "code",
   "execution_count": 397,
   "metadata": {
    "ExecuteTime": {
     "end_time": "2018-06-04T12:04:07.201383Z",
     "start_time": "2018-06-04T12:04:06.843097Z"
    },
    "scrolled": false
   },
   "outputs": [
    {
     "data": {
      "image/png": "[encoded data removed]",
      "text/plain": [
       "<Figure size 432x288 with 1 Axes>"
      ]
     },
     "metadata": {},
     "output_type": "display_data"
    }
   ],
   "source": [
    "from sklearn.cluster import KMeans\n",
    "kmeans = KMeans(n_clusters = 5).fit(X)\n",
    "for i in range(len(kmeans.cluster_centers_)):\n",
    "    plt.plot(kmeans.cluster_centers_[i][0],kmeans.cluster_centers_[i][1],'x', markersize=12, label=i);\n",
    "    plt.xticks([], [])\n",
    "    plt.yticks([], [])\n",
    "    plt.legend(loc=4)"
   ]
  },
  {
   "cell_type": "markdown",
   "metadata": {},
   "source": [
    "**Observations:** `n_clusters = 5` generates the most ideal separation among clusters from `n_clusters 1-10`"
   ]
  },
  {
   "cell_type": "markdown",
   "metadata": {},
   "source": [
    "#### Storing Donor ID in corresponding clusters"
   ]
  },
  {
   "cell_type": "code",
   "execution_count": 449,
   "metadata": {
    "ExecuteTime": {
     "end_time": "2018-06-04T12:29:10.267727Z",
     "start_time": "2018-06-04T12:29:10.228872Z"
    },
    "collapsed": true
   },
   "outputs": [],
   "source": [
    "cluster0 = df.iloc[X.iloc[kmeans.labels_==0,:].index]['Donor ID']\n",
    "cluster1 = df.iloc[X.iloc[kmeans.labels_==1,:].index]['Donor ID']\n",
    "cluster2 = df.iloc[X.iloc[kmeans.labels_==2,:].index]['Donor ID']\n",
    "cluster3 = df.iloc[X.iloc[kmeans.labels_==3,:].index]['Donor ID']\n",
    "cluster4 = df.iloc[X.iloc[kmeans.labels_==4,:].index]['Donor ID']"
   ]
  },
  {
   "cell_type": "code",
   "execution_count": 401,
   "metadata": {
    "ExecuteTime": {
     "end_time": "2018-06-04T12:05:19.678056Z",
     "start_time": "2018-06-04T12:05:19.672482Z"
    },
    "collapsed": true
   },
   "outputs": [],
   "source": [
    "y = kmeans.labels_"
   ]
  },
  {
   "cell_type": "markdown",
   "metadata": {},
   "source": [
    "### KNearest Neighbors Classification"
   ]
  },
  {
   "cell_type": "code",
   "execution_count": 403,
   "metadata": {
    "ExecuteTime": {
     "end_time": "2018-06-04T12:08:58.970156Z",
     "start_time": "2018-06-04T12:08:58.957823Z"
    },
    "scrolled": true
   },
   "outputs": [
    {
     "data": {
      "text/plain": [
       "Index(['Donation Amount', 'Resource Quantity', 'Resource Unit Price',\n",
       "       'Donor City', 'Donor State', 'Donor Is Teacher', 'Donor Zip',\n",
       "       'Project Type', 'Project Subject Category Tree',\n",
       "       'Project Subject Subcategory Tree', 'Project Grade Level Category',\n",
       "       'Project Resource Category', 'Project Cost', 'Project Current Status',\n",
       "       'Teacher Prefix', 'School Metro Type', 'School Percentage Free Lunch',\n",
       "       'School State', 'School Zip', 'School City', 'School County',\n",
       "       'School District'],\n",
       "      dtype='object')"
      ]
     },
     "execution_count": 403,
     "metadata": {},
     "output_type": "execute_result"
    }
   ],
   "source": [
    "X.columns"
   ]
  },
  {
   "cell_type": "code",
   "execution_count": 406,
   "metadata": {
    "ExecuteTime": {
     "end_time": "2018-06-04T12:10:14.513809Z",
     "start_time": "2018-06-04T12:10:14.503313Z"
    }
   },
   "outputs": [],
   "source": [
    "X_clf = X[['Project Type', 'Project Subject Category Tree',\n",
    "       'Project Subject Subcategory Tree', 'Project Grade Level Category',\n",
    "       'Project Resource Category', 'Project Cost', 'Project Current Status',\n",
    "       'Teacher Prefix', 'School Metro Type', 'School Percentage Free Lunch',\n",
    "       'School State', 'School Zip', 'School City', 'School County',\n",
    "       'School District']]"
   ]
  },
  {
   "cell_type": "code",
   "execution_count": 437,
   "metadata": {
    "ExecuteTime": {
     "end_time": "2018-06-04T12:20:10.812481Z",
     "start_time": "2018-06-04T12:20:09.879073Z"
    },
    "scrolled": false
   },
   "outputs": [
    {
     "data": {
      "image/png": "[encoded data removed]",
      "text/plain": [
       "<Figure size 432x288 with 1 Axes>"
      ]
     },
     "metadata": {},
     "output_type": "display_data"
    }
   ],
   "source": [
    "from sklearn.model_selection import train_test_split\n",
    "X_train, X_test, y_train, y_test = train_test_split(X_clf, y, test_size = 0.25, \n",
    "                                                    random_state = 123)\n",
    "from sklearn.neighbors import KNeighborsClassifier\n",
    "for n in range(1,20,1):\n",
    "    clf = KNeighborsClassifier(n_neighbors = n).fit(X_train, y_train)\n",
    "    plt.plot(n,clf.score(X_test, y_test),'.')\n",
    "    plt.xlabel(\"n_neighbors\")\n",
    "    plt.ylabel(\"Test Accuracy\")\n"
   ]
  },
  {
   "cell_type": "markdown",
   "metadata": {},
   "source": [
    "**Observations:** It appears that `n_neighbors = 5` yields the highest test accuracy at around 70%"
   ]
  },
  {
   "cell_type": "code",
   "execution_count": 462,
   "metadata": {
    "ExecuteTime": {
     "end_time": "2018-06-04T12:33:22.590616Z",
     "start_time": "2018-06-04T12:33:21.732058Z"
    },
    "scrolled": false
   },
   "outputs": [
    {
     "name": "stdout",
     "output_type": "stream",
     "text": [
      "0.7148\n"
     ]
    },
    {
     "data": {
      "image/png": "[encoded data removed]",
      "text/plain": [
       "<Figure size 432x288 with 1 Axes>"
      ]
     },
     "metadata": {},
     "output_type": "display_data"
    }
   ],
   "source": [
    "X_clf_ = X[['Project Type', 'Project Subject Category Tree',\n",
    "            'Project Grade Level Category',\n",
    "       'Project Resource Category', 'Project Cost', 'Project Current Status',\n",
    "        'School Metro Type', 'School Percentage Free Lunch',\n",
    "       'School State', 'School Zip', 'School City', 'School County',\n",
    "       'School District']]\n",
    "\n",
    "from sklearn.model_selection import train_test_split\n",
    "X_train, X_test, y_train, y_test = train_test_split(X_clf_, y, test_size = 0.25, \n",
    "                                                    random_state = 123)\n",
    "from sklearn.neighbors import KNeighborsClassifier\n",
    "for n in range(1,20,1):\n",
    "    clf = KNeighborsClassifier(n_neighbors = n).fit(X_train, y_train)\n",
    "    plt.plot(n,clf.score(X_test, y_test),'.')\n",
    "    plt.xlabel(\"n_neighbors\")\n",
    "    plt.ylabel(\"Test Accuracy\")\n",
    "    \n",
    "print(KNeighborsClassifier(n_neighbors = 5).fit(X_train, y_train).score(X_test, y_test))"
   ]
  },
  {
   "cell_type": "code",
   "execution_count": 478,
   "metadata": {
    "ExecuteTime": {
     "end_time": "2018-06-04T12:38:13.509780Z",
     "start_time": "2018-06-04T12:38:13.442323Z"
    }
   },
   "outputs": [
    {
     "data": {
      "text/plain": [
       "0.7168"
      ]
     },
     "execution_count": 478,
     "metadata": {},
     "output_type": "execute_result"
    }
   ],
   "source": [
    "from sklearn.tree import DecisionTreeClassifier\n",
    "from sklearn.model_selection import train_test_split\n",
    "X_train, X_test, y_train, y_test = train_test_split(X_clf, y, test_size = 0.25, \n",
    "                                                    random_state = 123)\n",
    "dtc = DecisionTreeClassifier().fit(X_train, y_train)\n",
    "dtc.score(X_test,y_test)"
   ]
  }
 ],
 "metadata": {
  "kernelspec": {
   "display_name": "Python 3",
   "language": "python",
   "name": "python3"
  },
  "language_info": {
   "codemirror_mode": {
    "name": "ipython",
    "version": 3
   },
   "file_extension": ".py",
   "mimetype": "text/x-python",
   "name": "python",
   "nbconvert_exporter": "python",
   "pygments_lexer": "ipython3",
   "version": "3.6.3"
  }
 },
 "nbformat": 4,
 "nbformat_minor": 2
}
